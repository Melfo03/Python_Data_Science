{
 "cells": [
  {
   "cell_type": "markdown",
   "id": "b0758fbd-530f-48c5-bd21-29a8be796d4a",
   "metadata": {},
   "source": [
    "# NumPy"
   ]
  },
  {
   "cell_type": "markdown",
   "id": "307976cf-94e9-4f76-bee6-e8feaba98b90",
   "metadata": {},
   "source": [
    "## NumPy Array Oluşturmak"
   ]
  },
  {
   "cell_type": "code",
   "execution_count": 33,
   "id": "1b9ea6af-af42-48a0-9d5e-34b3c2e79366",
   "metadata": {},
   "outputs": [],
   "source": [
    "import numpy as np"
   ]
  },
  {
   "cell_type": "code",
   "execution_count": 3,
   "id": "9d8adf5d-c088-4000-8cb9-eb1a88caced9",
   "metadata": {},
   "outputs": [
    {
     "data": {
      "text/plain": [
       "array([1, 2, 3, 4, 5])"
      ]
     },
     "execution_count": 3,
     "metadata": {},
     "output_type": "execute_result"
    }
   ],
   "source": [
    "np.array([1,2,3,4,5])"
   ]
  },
  {
   "cell_type": "code",
   "execution_count": 203,
   "id": "ac25ba56-b1b4-43eb-b88b-cc920341db01",
   "metadata": {},
   "outputs": [
    {
     "data": {
      "text/plain": [
       "array([1, 2, 3, 4, 5])"
      ]
     },
     "execution_count": 203,
     "metadata": {},
     "output_type": "execute_result"
    }
   ],
   "source": [
    "a=np.array([1,2,3,4,5])\n",
    "a"
   ]
  },
  {
   "cell_type": "markdown",
   "id": "d2112d1a-2222-47ad-81c5-ab008b04bd01",
   "metadata": {},
   "source": [
    "### -Tek Boyutlu Array = Vektör"
   ]
  },
  {
   "cell_type": "code",
   "execution_count": 36,
   "id": "4ef8c445-acd0-4def-9970-1679c8cd8ffb",
   "metadata": {},
   "outputs": [
    {
     "data": {
      "text/plain": [
       "array([3.14, 5.  , 4.  , 6.  ])"
      ]
     },
     "execution_count": 36,
     "metadata": {},
     "output_type": "execute_result"
    }
   ],
   "source": [
    "b=np.array([3.14,5,4,6]) # Bütün Arraylari Float Olarak tek Tip Tutuyor\n",
    "b"
   ]
  },
  {
   "cell_type": "code",
   "execution_count": 38,
   "id": "50e636fa-d302-40e8-8c45-bb72644b6cc0",
   "metadata": {},
   "outputs": [
    {
     "data": {
      "text/plain": [
       "array([0, 0])"
      ]
     },
     "execution_count": 38,
     "metadata": {},
     "output_type": "execute_result"
    }
   ],
   "source": [
    "np.zeros(2,dtype=int)#"
   ]
  },
  {
   "cell_type": "code",
   "execution_count": 42,
   "id": "942a5bbc-aeaf-4ba4-8b45-155e900d3449",
   "metadata": {
    "scrolled": true
   },
   "outputs": [
    {
     "data": {
      "text/plain": [
       "array([[1, 1, 1, 1, 1],\n",
       "       [1, 1, 1, 1, 1]])"
      ]
     },
     "execution_count": 42,
     "metadata": {},
     "output_type": "execute_result"
    }
   ],
   "source": [
    "np.ones((2,5),dtype=int)#Matris Şeklinde Oluşturur"
   ]
  },
  {
   "cell_type": "code",
   "execution_count": 48,
   "id": "bd39a582-2ada-4fd0-87bf-f9d771764b4d",
   "metadata": {},
   "outputs": [
    {
     "data": {
      "text/plain": [
       "array([[3, 3, 3, 3, 3, 3, 3],\n",
       "       [3, 3, 3, 3, 3, 3, 3],\n",
       "       [3, 3, 3, 3, 3, 3, 3],\n",
       "       [3, 3, 3, 3, 3, 3, 3],\n",
       "       [3, 3, 3, 3, 3, 3, 3],\n",
       "       [3, 3, 3, 3, 3, 3, 3],\n",
       "       [3, 3, 3, 3, 3, 3, 3]])"
      ]
     },
     "execution_count": 48,
     "metadata": {},
     "output_type": "execute_result"
    }
   ],
   "source": [
    "np.full((7,7),3)"
   ]
  },
  {
   "cell_type": "code",
   "execution_count": 37,
   "id": "c9eec17b-5be3-4fa5-9916-6fc8c62fd5b7",
   "metadata": {
    "editable": true,
    "slideshow": {
     "slide_type": ""
    },
    "tags": []
   },
   "outputs": [
    {
     "data": {
      "text/plain": [
       "array([ 0,  2,  4,  6,  8, 10, 12, 14, 16, 18, 20, 22, 24, 26, 28])"
      ]
     },
     "execution_count": 37,
     "metadata": {},
     "output_type": "execute_result"
    }
   ],
   "source": [
    "np.arange(0,30,2)#0'Dan 30'a Kadar 2'Şer Artan Array"
   ]
  },
  {
   "cell_type": "code",
   "execution_count": 58,
   "id": "1f30fbee-82f0-4d04-8163-d3b61a17e01c",
   "metadata": {
    "scrolled": true
   },
   "outputs": [
    {
     "data": {
      "text/plain": [
       "array([0.  , 0.25, 0.5 , 0.75, 1.  ])"
      ]
     },
     "execution_count": 58,
     "metadata": {},
     "output_type": "execute_result"
    }
   ],
   "source": [
    "np.linspace(0,1,5)#0 Ve 1 Arasında Eşit Uzaklıkta 5 Adet Veri"
   ]
  },
  {
   "cell_type": "code",
   "execution_count": 70,
   "id": "bd662291-98ff-4075-b42f-8527a31c3653",
   "metadata": {},
   "outputs": [
    {
     "data": {
      "text/plain": [
       "array([[4.30087938, 4.22849261, 5.59722105, 5.33769827],\n",
       "       [6.28311943, 6.32136527, 5.03615926, 5.5144191 ],\n",
       "       [4.84874049, 3.90088086, 5.83264606, 5.10295263]])"
      ]
     },
     "execution_count": 70,
     "metadata": {},
     "output_type": "execute_result"
    }
   ],
   "source": [
    "np.random.normal(5,1,(3,4))#Ortalaması 5, Sd Değeri 1 Olan 3,4lük bir matris "
   ]
  },
  {
   "cell_type": "code",
   "execution_count": 86,
   "id": "80a9b5a5-285f-4a23-a4e7-85477e0b5920",
   "metadata": {},
   "outputs": [
    {
     "data": {
      "text/plain": [
       "array([[7, 9, 9],\n",
       "       [7, 9, 9],\n",
       "       [9, 9, 7]])"
      ]
     },
     "execution_count": 86,
     "metadata": {},
     "output_type": "execute_result"
    }
   ],
   "source": [
    "np.random.randint(5,10,(3,3))#5ve 10 Aralığında Random İnt Değerleri"
   ]
  },
  {
   "cell_type": "markdown",
   "id": "f3bd5d3c-9117-455b-94dc-17a31e34d1bf",
   "metadata": {},
   "source": [
    "## NumPy Array Özellikleri"
   ]
  },
  {
   "cell_type": "markdown",
   "id": "1dfcc15f-600e-4a18-a0d3-ab7354e96e4d",
   "metadata": {},
   "source": [
    "#### **-ndim:** _Boyut Sayısı_\n",
    "#### **-shape:** _Boyut Bilgisi_\n",
    "#### **-size:** _Toplam Eleman Sayısı_\n",
    "#### **-dtype:** _Array Veri Tipi_"
   ]
  },
  {
   "cell_type": "code",
   "execution_count": 4,
   "id": "1d16bee6-2d5e-4a2f-a476-3ddf9fa29b29",
   "metadata": {},
   "outputs": [],
   "source": [
    "import numpy as np"
   ]
  },
  {
   "cell_type": "code",
   "execution_count": 19,
   "id": "67afcb75-5c49-455b-9ee4-5c6a00950543",
   "metadata": {},
   "outputs": [],
   "source": [
    "a=np.random.randint(0,10,(3,3))"
   ]
  },
  {
   "cell_type": "code",
   "execution_count": 21,
   "id": "84be04c5-8116-44d4-a42e-cbb8156ccdcc",
   "metadata": {},
   "outputs": [
    {
     "data": {
      "text/plain": [
       "2"
      ]
     },
     "execution_count": 21,
     "metadata": {},
     "output_type": "execute_result"
    }
   ],
   "source": [
    "a.ndim"
   ]
  },
  {
   "cell_type": "code",
   "execution_count": 164,
   "id": "14d7fbfb-225e-4efa-b8f6-c2f2f4e35f4a",
   "metadata": {},
   "outputs": [
    {
     "data": {
      "text/plain": [
       "(3, 3)"
      ]
     },
     "execution_count": 164,
     "metadata": {},
     "output_type": "execute_result"
    }
   ],
   "source": [
    "a.shape"
   ]
  },
  {
   "cell_type": "code",
   "execution_count": 23,
   "id": "a78a6496-7465-4ced-b17e-c6bded386c63",
   "metadata": {},
   "outputs": [
    {
     "data": {
      "text/plain": [
       "9"
      ]
     },
     "execution_count": 23,
     "metadata": {},
     "output_type": "execute_result"
    }
   ],
   "source": [
    "a.size"
   ]
  },
  {
   "cell_type": "code",
   "execution_count": 168,
   "id": "237b9b63-9612-4058-a8cd-aebe335ef000",
   "metadata": {},
   "outputs": [
    {
     "data": {
      "text/plain": [
       "dtype('int32')"
      ]
     },
     "execution_count": 168,
     "metadata": {},
     "output_type": "execute_result"
    }
   ],
   "source": [
    "a.dtype"
   ]
  },
  {
   "cell_type": "markdown",
   "id": "fd345e9b-0fb1-44ae-9883-376d0f0297ab",
   "metadata": {},
   "source": [
    "### **-reshaping**\n"
   ]
  },
  {
   "cell_type": "code",
   "execution_count": 73,
   "id": "d18ae1d3-b96e-4e5e-a1c7-462b24fd4423",
   "metadata": {},
   "outputs": [
    {
     "name": "stdout",
     "output_type": "stream",
     "text": [
      "[1 2 3 4 5 6 7 8 9]\n"
     ]
    }
   ],
   "source": [
    "a=np.arange(1,10)\n",
    "print(a)"
   ]
  },
  {
   "cell_type": "code",
   "execution_count": 87,
   "id": "0212fc6b-2c33-44f6-adfd-fff0b38b3ea3",
   "metadata": {},
   "outputs": [
    {
     "data": {
      "text/plain": [
       "1"
      ]
     },
     "execution_count": 87,
     "metadata": {},
     "output_type": "execute_result"
    }
   ],
   "source": [
    "a.ndim"
   ]
  },
  {
   "cell_type": "code",
   "execution_count": 15,
   "id": "4b0e7466-0b40-433d-9599-f6046c260121",
   "metadata": {},
   "outputs": [
    {
     "name": "stdout",
     "output_type": "stream",
     "text": [
      "[[1 2 3 4 5 6 7 8 9]]\n"
     ]
    }
   ],
   "source": [
    "a=np.arange(1,10).reshape((1,9))\n",
    "print(a)"
   ]
  },
  {
   "cell_type": "code",
   "execution_count": 17,
   "id": "59f52489-c4a4-40b4-9de5-5dd3ca380c48",
   "metadata": {},
   "outputs": [
    {
     "data": {
      "text/plain": [
       "2"
      ]
     },
     "execution_count": 17,
     "metadata": {},
     "output_type": "execute_result"
    }
   ],
   "source": [
    "a.ndim #Tek Boyutlu Bir Veriyi Çok Boyutlu Hale Getirdik"
   ]
  },
  {
   "cell_type": "code",
   "execution_count": 79,
   "id": "e7ee77bf-03e3-42ab-8080-2179fe102f3b",
   "metadata": {
    "editable": true,
    "slideshow": {
     "slide_type": ""
    },
    "tags": []
   },
   "outputs": [
    {
     "name": "stdout",
     "output_type": "stream",
     "text": [
      "[[1 2 3]\n",
      " [4 5 6]\n",
      " [7 8 9]]\n"
     ]
    }
   ],
   "source": [
    "b=np.arange(1,10).reshape((3,3))#3e3lük Bir Hale Getirir\n",
    "print(b)       "
   ]
  },
  {
   "cell_type": "code",
   "execution_count": 18,
   "id": "dbe5b33f-f2a8-4401-9928-11b92df668ce",
   "metadata": {},
   "outputs": [
    {
     "data": {
      "text/plain": [
       "array([[[ 5, 13,  0,  0, 10],\n",
       "        [ 3,  8,  0, 11,  2],\n",
       "        [ 5, 10,  8,  9, 12]],\n",
       "\n",
       "       [[ 7,  1,  2,  7, 14],\n",
       "        [ 0,  6,  4,  8,  0],\n",
       "        [ 8,  9,  4,  0,  8]],\n",
       "\n",
       "       [[ 4,  8,  4,  7,  7],\n",
       "        [12,  3,  9,  8,  8],\n",
       "        [11,  2,  6,  9,  7]]])"
      ]
     },
     "execution_count": 18,
     "metadata": {},
     "output_type": "execute_result"
    }
   ],
   "source": [
    "np.random.randint(15,size=(3,3,5))"
   ]
  },
  {
   "cell_type": "markdown",
   "id": "8758142e-db90-4f6c-af8d-a794faf066a5",
   "metadata": {},
   "source": [
    "### **Concatenation** (Birleştirme)"
   ]
  },
  {
   "cell_type": "code",
   "execution_count": 33,
   "id": "4eea8a1a-473d-4a09-9a72-707d2f621de6",
   "metadata": {},
   "outputs": [],
   "source": [
    "a=np.array([[1,2,3],\n",
    "            [4,5,6]])\n",
    "b=np.array([[1,2,3],\n",
    "            [4,5,6]])"
   ]
  },
  {
   "cell_type": "code",
   "execution_count": 37,
   "id": "dd96f87b-0960-4625-9002-5ead366132cf",
   "metadata": {},
   "outputs": [
    {
     "data": {
      "text/plain": [
       "array([[1, 2, 3],\n",
       "       [4, 5, 6],\n",
       "       [1, 2, 3],\n",
       "       [4, 5, 6]])"
      ]
     },
     "execution_count": 37,
     "metadata": {},
     "output_type": "execute_result"
    }
   ],
   "source": [
    "np.concatenate([a,b])"
   ]
  },
  {
   "cell_type": "code",
   "execution_count": 39,
   "id": "f47882b4-2284-4b1d-8c99-524c76fbb3c1",
   "metadata": {
    "scrolled": true
   },
   "outputs": [
    {
     "data": {
      "text/plain": [
       "array([[1, 2, 3, 1, 2, 3],\n",
       "       [4, 5, 6, 4, 5, 6]])"
      ]
     },
     "execution_count": 39,
     "metadata": {},
     "output_type": "execute_result"
    }
   ],
   "source": [
    "np.concatenate([a,b],axis=1)"
   ]
  },
  {
   "cell_type": "code",
   "execution_count": 41,
   "id": "83fbe3df-c2f6-4e14-8bbc-728bbb491e18",
   "metadata": {},
   "outputs": [],
   "source": [
    "a=np.array([[1,2,3],\n",
    "            [4,5,6]])\n",
    "b=np.array([[7,8,9],\n",
    "            [10,11,12]])"
   ]
  },
  {
   "cell_type": "code",
   "execution_count": 45,
   "id": "20acf018-c58e-4dfd-8469-2d17b0bf3533",
   "metadata": {},
   "outputs": [
    {
     "data": {
      "text/plain": [
       "array([[ 7,  8,  9],\n",
       "       [10, 11, 12],\n",
       "       [ 1,  2,  3],\n",
       "       [ 4,  5,  6]])"
      ]
     },
     "execution_count": 45,
     "metadata": {},
     "output_type": "execute_result"
    }
   ],
   "source": [
    "np.concatenate([b,a])"
   ]
  },
  {
   "cell_type": "markdown",
   "id": "493ec18a-bddc-4a59-b942-5d5eeba75b1c",
   "metadata": {},
   "source": [
    "### **Split** (Array Ayırma)"
   ]
  },
  {
   "cell_type": "code",
   "execution_count": 94,
   "id": "ed8b5dc2-817b-48c5-9fe2-b3e62daf4666",
   "metadata": {},
   "outputs": [],
   "source": [
    "x=np.array([1,2,3,77,77,77,3,2,1])"
   ]
  },
  {
   "cell_type": "code",
   "execution_count": 104,
   "id": "0647b592-5ac5-4036-b69a-6cebf842fdb7",
   "metadata": {},
   "outputs": [
    {
     "data": {
      "text/plain": [
       "[array([1, 2, 3]), array([77, 77, 77]), array([3, 2, 1])]"
      ]
     },
     "execution_count": 104,
     "metadata": {},
     "output_type": "execute_result"
    }
   ],
   "source": [
    "np.split(x,(3,6))"
   ]
  },
  {
   "cell_type": "code",
   "execution_count": 114,
   "id": "f1a177f5-f19c-4f6e-af39-a94957e9736d",
   "metadata": {},
   "outputs": [
    {
     "name": "stdout",
     "output_type": "stream",
     "text": [
      "[1 2 3] [77 77 77] [3 2 1]\n"
     ]
    }
   ],
   "source": [
    "a,b,c=np.split(x,(3,6))\n",
    "print(a,b,c)"
   ]
  },
  {
   "cell_type": "code",
   "execution_count": 143,
   "id": "6329b4a9-10af-4273-8333-df11652f61a9",
   "metadata": {},
   "outputs": [],
   "source": [
    "##İki Boyutlu Ayırma\n",
    "#vsplit: Satıra Göre Bölme\n",
    "#hsplit: Sütüna Göre Bölme"
   ]
  },
  {
   "cell_type": "code",
   "execution_count": null,
   "id": "2c660c96-7a6b-4f8e-8f48-fa2e85aefebc",
   "metadata": {},
   "outputs": [],
   "source": []
  },
  {
   "cell_type": "code",
   "execution_count": 122,
   "id": "a9bfc44a-c8eb-4b45-b9f1-137b0e652630",
   "metadata": {},
   "outputs": [
    {
     "name": "stdout",
     "output_type": "stream",
     "text": [
      "[[ 0  1  2  3]\n",
      " [ 4  5  6  7]\n",
      " [ 8  9 10 11]\n",
      " [12 13 14 15]]\n"
     ]
    }
   ],
   "source": [
    "m=np.arange(16).reshape([4,4])\n",
    "print(m)"
   ]
  },
  {
   "cell_type": "code",
   "execution_count": 134,
   "id": "1179872f-5a7a-471a-b712-23025601e67f",
   "metadata": {},
   "outputs": [],
   "source": [
    "#Çok Boyutlu Bir Matrisi 2 Ye Bölüp Bölünen Parçayı Eklemek"
   ]
  },
  {
   "cell_type": "code",
   "execution_count": 130,
   "id": "e5cfca02-f610-49f0-a63d-987cc0a2840c",
   "metadata": {},
   "outputs": [
    {
     "name": "stdout",
     "output_type": "stream",
     "text": [
      "[[0 1 2 3]\n",
      " [4 5 6 7]] [[ 8  9 10 11]\n",
      " [12 13 14 15]]\n"
     ]
    }
   ],
   "source": [
    "a,b=np.vsplit(m,[2])#İkinci Satıra  Kadar Böl\n",
    "print(a,b)"
   ]
  },
  {
   "cell_type": "code",
   "execution_count": 141,
   "id": "70eaa2ca-17ce-4608-a69f-52371e96f3e6",
   "metadata": {},
   "outputs": [
    {
     "data": {
      "text/plain": [
       "array([[ 0,  1,  2,  3,  8,  9, 10, 11],\n",
       "       [ 4,  5,  6,  7, 12, 13, 14, 15]])"
      ]
     },
     "execution_count": 141,
     "metadata": {},
     "output_type": "execute_result"
    }
   ],
   "source": [
    "np.concatenate([a,b],axis=1)"
   ]
  },
  {
   "cell_type": "code",
   "execution_count": 149,
   "id": "a51d2f13-98d0-4e13-8e6f-f1c5742d73c1",
   "metadata": {},
   "outputs": [],
   "source": [
    "#Sütuna Göre Bölme"
   ]
  },
  {
   "cell_type": "code",
   "execution_count": 151,
   "id": "ca448461-daea-4a0a-8f94-c83381a8c45a",
   "metadata": {},
   "outputs": [
    {
     "name": "stdout",
     "output_type": "stream",
     "text": [
      "[[ 0  1  2  3]\n",
      " [ 4  5  6  7]\n",
      " [ 8  9 10 11]\n",
      " [12 13 14 15]]\n"
     ]
    }
   ],
   "source": [
    "m=np.arange(16).reshape([4,4])\n",
    "print(m)"
   ]
  },
  {
   "cell_type": "code",
   "execution_count": 153,
   "id": "dc28ba21-b355-4f2e-a709-778c45da75ab",
   "metadata": {},
   "outputs": [
    {
     "name": "stdout",
     "output_type": "stream",
     "text": [
      "[[ 0  1]\n",
      " [ 4  5]\n",
      " [ 8  9]\n",
      " [12 13]] [[ 2  3]\n",
      " [ 6  7]\n",
      " [10 11]\n",
      " [14 15]]\n"
     ]
    }
   ],
   "source": [
    "a,b=np.hsplit(m,[2])#İkinci Sütuna  Kadar Böl\n",
    "print(a,b)"
   ]
  },
  {
   "cell_type": "markdown",
   "id": "06964d5e-6131-4777-bfc3-dd9d1e7d9a3d",
   "metadata": {},
   "source": [
    "### **Sort** (Array Sıralama)"
   ]
  },
  {
   "cell_type": "code",
   "execution_count": 158,
   "id": "da848b1b-eabc-44db-a904-14c46d860911",
   "metadata": {},
   "outputs": [
    {
     "name": "stdout",
     "output_type": "stream",
     "text": [
      "[4 1 2 5 3]\n"
     ]
    }
   ],
   "source": [
    "v=np.array([4,1,2,5,3])\n",
    "print(v)"
   ]
  },
  {
   "cell_type": "code",
   "execution_count": 188,
   "id": "db0d70bb-866c-4dfe-bb57-fc60f20d5499",
   "metadata": {},
   "outputs": [
    {
     "data": {
      "text/plain": [
       "array([1, 2, 3, 4, 5])"
      ]
     },
     "execution_count": 188,
     "metadata": {},
     "output_type": "execute_result"
    }
   ],
   "source": [
    "np.sort(v)"
   ]
  },
  {
   "cell_type": "code",
   "execution_count": null,
   "id": "db9a3421-e103-4560-906c-17042dab822a",
   "metadata": {},
   "outputs": [],
   "source": [
    "#Çok Boyutlu Array Sıralama"
   ]
  },
  {
   "cell_type": "code",
   "execution_count": 228,
   "id": "cdb234d5-db0b-44c7-8b93-aa09da74f6a1",
   "metadata": {},
   "outputs": [
    {
     "name": "stdout",
     "output_type": "stream",
     "text": [
      "[[ 5  4 16 12]\n",
      " [10  5 13  4]\n",
      " [ 1  7  4  6]\n",
      " [ 4  1  1 16]]\n"
     ]
    }
   ],
   "source": [
    "m=np.random.randint(1,17,(4,4))\n",
    "print(m)"
   ]
  },
  {
   "cell_type": "code",
   "execution_count": 232,
   "id": "cab11ebd-a9b1-4601-95b9-af140aaabdb2",
   "metadata": {},
   "outputs": [
    {
     "data": {
      "text/plain": [
       "array([[ 4,  5, 12, 16],\n",
       "       [ 4,  5, 10, 13],\n",
       "       [ 1,  4,  6,  7],\n",
       "       [ 1,  1,  4, 16]])"
      ]
     },
     "execution_count": 232,
     "metadata": {},
     "output_type": "execute_result"
    }
   ],
   "source": [
    "np.sort(m,axis=1) #Satırları Sıralar"
   ]
  },
  {
   "cell_type": "code",
   "execution_count": 234,
   "id": "251b8f8d-3859-41c1-a32d-fdc7973e4714",
   "metadata": {},
   "outputs": [
    {
     "data": {
      "text/plain": [
       "array([[ 1,  1,  1,  4],\n",
       "       [ 4,  4,  4,  6],\n",
       "       [ 5,  5, 13, 12],\n",
       "       [10,  7, 16, 16]])"
      ]
     },
     "execution_count": 234,
     "metadata": {},
     "output_type": "execute_result"
    }
   ],
   "source": [
    "np.sort(m,axis=0) #Sütunları Sıralar"
   ]
  },
  {
   "cell_type": "markdown",
   "id": "a4c7c78e-bf57-4f61-a26a-18347ae6bcf4",
   "metadata": {},
   "source": [
    "### **İndex İle Elemanlara Erişim**"
   ]
  },
  {
   "cell_type": "code",
   "execution_count": 3,
   "id": "f2b4ee84-bccc-4b4a-a01e-6bfd6e7d7607",
   "metadata": {},
   "outputs": [],
   "source": [
    "import numpy as np"
   ]
  },
  {
   "cell_type": "code",
   "execution_count": 39,
   "id": "92882cfc-db3f-4618-8c3e-11c48678cf41",
   "metadata": {},
   "outputs": [
    {
     "name": "stdout",
     "output_type": "stream",
     "text": [
      "[7 4 7 6 8]\n"
     ]
    }
   ],
   "source": [
    "a=np.random.randint(0,10,5)\n",
    "print(a)"
   ]
  },
  {
   "cell_type": "code",
   "execution_count": 41,
   "id": "efae06ac-b7e2-4fcf-affa-0404f2c75889",
   "metadata": {},
   "outputs": [
    {
     "data": {
      "text/plain": [
       "7"
      ]
     },
     "execution_count": 41,
     "metadata": {},
     "output_type": "execute_result"
    }
   ],
   "source": [
    "a[0]"
   ]
  },
  {
   "cell_type": "code",
   "execution_count": 43,
   "id": "12dc8c2f-b53d-4ce2-b73a-35a70b6c8dd3",
   "metadata": {},
   "outputs": [
    {
     "data": {
      "text/plain": [
       "8"
      ]
     },
     "execution_count": 43,
     "metadata": {},
     "output_type": "execute_result"
    }
   ],
   "source": [
    "a[-1]"
   ]
  },
  {
   "cell_type": "code",
   "execution_count": 47,
   "id": "49708169-41e2-4eb9-93b2-883b6a5ead70",
   "metadata": {},
   "outputs": [
    {
     "name": "stdout",
     "output_type": "stream",
     "text": [
      "100\n"
     ]
    }
   ],
   "source": [
    "a[0]=100\n",
    "print(a[0])"
   ]
  },
  {
   "cell_type": "code",
   "execution_count": 59,
   "id": "7f5b498b-d43b-4036-abe2-1778b3041a00",
   "metadata": {},
   "outputs": [
    {
     "name": "stdout",
     "output_type": "stream",
     "text": [
      "[[8 6]\n",
      " [0 0]]\n"
     ]
    }
   ],
   "source": [
    "a=np.random.randint(0,10,(2,2))\n",
    "print(a)"
   ]
  },
  {
   "cell_type": "code",
   "execution_count": 61,
   "id": "24e49639-edcf-440b-9646-8ff7e89639d9",
   "metadata": {},
   "outputs": [
    {
     "data": {
      "text/plain": [
       "8"
      ]
     },
     "execution_count": 61,
     "metadata": {},
     "output_type": "execute_result"
    }
   ],
   "source": [
    "a[0][0]"
   ]
  },
  {
   "cell_type": "code",
   "execution_count": 63,
   "id": "3e0f5cfa-2a03-4a00-aed0-2a5e9a4d1221",
   "metadata": {},
   "outputs": [
    {
     "data": {
      "text/plain": [
       "0"
      ]
     },
     "execution_count": 63,
     "metadata": {},
     "output_type": "execute_result"
    }
   ],
   "source": [
    "a[1][0]"
   ]
  },
  {
   "cell_type": "code",
   "execution_count": 65,
   "id": "29d604b7-a12e-481f-88cd-ac1304ba9026",
   "metadata": {},
   "outputs": [
    {
     "name": "stdout",
     "output_type": "stream",
     "text": [
      "[[1 6]\n",
      " [0 0]]\n"
     ]
    }
   ],
   "source": [
    "a[0][0]=1.2 #numpy Arrayi Oluşturulurken Herhangi Bir Değer\n",
    "print(a)    #Float Olsaydı Tüm Değerler Float Olurdu Lakin\n",
    "            #Sonradan Bir Float Değeri Girildiğinde \n",
    "            #Girilen Değer İnteger'a Yuvarlanır"
   ]
  },
  {
   "cell_type": "markdown",
   "id": "c61682a2-755f-4750-923d-166aa4446086",
   "metadata": {},
   "source": [
    "### **Slicing İle Array Altkümesine Erişmek"
   ]
  },
  {
   "cell_type": "code",
   "execution_count": null,
   "id": "74308087-f631-4c8a-aa19-11007fda8476",
   "metadata": {},
   "outputs": [],
   "source": []
  }
 ],
 "metadata": {
  "kernelspec": {
   "display_name": "Python [conda env:base] *",
   "language": "python",
   "name": "conda-base-py"
  },
  "language_info": {
   "codemirror_mode": {
    "name": "ipython",
    "version": 3
   },
   "file_extension": ".py",
   "mimetype": "text/x-python",
   "name": "python",
   "nbconvert_exporter": "python",
   "pygments_lexer": "ipython3",
   "version": "3.12.7"
  }
 },
 "nbformat": 4,
 "nbformat_minor": 5
}
