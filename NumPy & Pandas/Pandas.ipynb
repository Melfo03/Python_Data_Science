{
 "cells": [
  {
   "cell_type": "markdown",
   "id": "70efa70b-54e7-458c-8c71-1cd46822bbec",
   "metadata": {},
   "source": [
    "# **Pandas**"
   ]
  },
  {
   "cell_type": "code",
   "execution_count": 9,
   "id": "c23e5181-2fff-498b-8647-df206994ad74",
   "metadata": {},
   "outputs": [],
   "source": [
    "import pandas as pd"
   ]
  },
  {
   "cell_type": "markdown",
   "id": "825751f4-0859-413f-91fd-d409c8754d6f",
   "metadata": {},
   "source": [
    "### **Pandas Serisi Oluşturma**"
   ]
  },
  {
   "cell_type": "code",
   "execution_count": 37,
   "id": "59f9ad5a-1326-46c4-b039-e2c8c119ce7d",
   "metadata": {},
   "outputs": [
    {
     "data": {
      "text/plain": [
       "0      5\n",
       "1      6\n",
       "2      7\n",
       "3      8\n",
       "4    abc\n",
       "dtype: object"
      ]
     },
     "execution_count": 37,
     "metadata": {},
     "output_type": "execute_result"
    }
   ],
   "source": [
    "pd.Series([5,6,7,8,\"abc\"])"
   ]
  },
  {
   "cell_type": "code",
   "execution_count": 59,
   "id": "4334d40f-2393-47df-9469-0d33f230aecc",
   "metadata": {},
   "outputs": [
    {
     "data": {
      "text/plain": [
       "pandas.core.series.Series"
      ]
     },
     "execution_count": 59,
     "metadata": {},
     "output_type": "execute_result"
    }
   ],
   "source": [
    "a=pd.Series([5,6,7,8,9])\n",
    "type(serie)"
   ]
  },
  {
   "cell_type": "code",
   "execution_count": 61,
   "id": "2f81ae45-65eb-4fab-9f3a-44ccf1e98c87",
   "metadata": {},
   "outputs": [
    {
     "data": {
      "text/plain": [
       "[RangeIndex(start=0, stop=5, step=1)]"
      ]
     },
     "execution_count": 61,
     "metadata": {},
     "output_type": "execute_result"
    }
   ],
   "source": [
    "a.axes#İndex Bilgiler"
   ]
  },
  {
   "cell_type": "code",
   "execution_count": 63,
   "id": "ee84226d-d22f-4905-8b1c-f7abd15d6a43",
   "metadata": {},
   "outputs": [
    {
     "data": {
      "text/plain": [
       "dtype('int64')"
      ]
     },
     "execution_count": 63,
     "metadata": {},
     "output_type": "execute_result"
    }
   ],
   "source": [
    "a.dtype"
   ]
  },
  {
   "cell_type": "code",
   "execution_count": 65,
   "id": "c2611c5f-815c-4d43-b71e-7040985462d6",
   "metadata": {},
   "outputs": [
    {
     "data": {
      "text/plain": [
       "1"
      ]
     },
     "execution_count": 65,
     "metadata": {},
     "output_type": "execute_result"
    }
   ],
   "source": [
    "a.ndim"
   ]
  },
  {
   "cell_type": "code",
   "execution_count": 73,
   "id": "1b8ecc29-5a7e-4c6a-bc72-d9a5c1153a3a",
   "metadata": {},
   "outputs": [
    {
     "data": {
      "text/plain": [
       "array([5, 6, 7, 8, 9], dtype=int64)"
      ]
     },
     "execution_count": 73,
     "metadata": {},
     "output_type": "execute_result"
    }
   ],
   "source": [
    "a.values#İndexler Olmadan Sadece Değerleri Getirir"
   ]
  },
  {
   "cell_type": "code",
   "execution_count": 77,
   "id": "d7c4ee56-271d-41f9-a55f-0814c38f3d1d",
   "metadata": {},
   "outputs": [
    {
     "data": {
      "text/plain": [
       "0    5\n",
       "1    6\n",
       "dtype: int64"
      ]
     },
     "execution_count": 77,
     "metadata": {},
     "output_type": "execute_result"
    }
   ],
   "source": [
    "a.head(2)#İlk 2 Değeri Getirir"
   ]
  },
  {
   "cell_type": "code",
   "execution_count": 81,
   "id": "3943c65f-a8ee-44fa-8929-ec9e5436bcbf",
   "metadata": {},
   "outputs": [
    {
     "data": {
      "text/plain": [
       "3    8\n",
       "4    9\n",
       "dtype: int64"
      ]
     },
     "execution_count": 81,
     "metadata": {},
     "output_type": "execute_result"
    }
   ],
   "source": [
    "a.tail(2)#Son 2 Değeri Getirir"
   ]
  },
  {
   "cell_type": "code",
   "execution_count": 91,
   "id": "200c0e5f-df19-47f2-b931-a2e0d02cc67b",
   "metadata": {},
   "outputs": [
    {
     "name": "stdout",
     "output_type": "stream",
     "text": [
      "a    77\n",
      "b    88\n",
      "c    99\n",
      "d    22\n",
      "dtype: int64\n"
     ]
    }
   ],
   "source": [
    "b=pd.Series([77,88,99,22],index=[\"a\",\"b\",\"c\",\"d\"])\n",
    "print(b)#İndexlerin İsimlerinin Değiştirilmesi\n"
   ]
  },
  {
   "cell_type": "code",
   "execution_count": 89,
   "id": "7683186b-ee29-4227-8332-e65f5987888b",
   "metadata": {},
   "outputs": [
    {
     "data": {
      "text/plain": [
       "99"
      ]
     },
     "execution_count": 89,
     "metadata": {},
     "output_type": "execute_result"
    }
   ],
   "source": [
    "b[\"c\"]"
   ]
  },
  {
   "cell_type": "code",
   "execution_count": 93,
   "id": "d2a64e92-01d4-4b35-bd8e-a8e78f301e25",
   "metadata": {},
   "outputs": [
    {
     "data": {
      "text/plain": [
       "a    77\n",
       "b    88\n",
       "c    99\n",
       "dtype: int64"
      ]
     },
     "execution_count": 93,
     "metadata": {},
     "output_type": "execute_result"
    }
   ],
   "source": [
    "b[\"a\":\"c\"]"
   ]
  },
  {
   "cell_type": "code",
   "execution_count": 101,
   "id": "d6399014-e5fc-4a8d-8f9c-476dc5086a1f",
   "metadata": {},
   "outputs": [],
   "source": [
    "#Sözlük Üzerinden Liste Oluşturma"
   ]
  },
  {
   "cell_type": "code",
   "execution_count": 103,
   "id": "f49e0d9e-ff0b-40ae-91c8-29a35e74a06c",
   "metadata": {},
   "outputs": [],
   "source": [
    "deger={\"Reg\":10,\"Log\":5}"
   ]
  },
  {
   "cell_type": "code",
   "execution_count": 109,
   "id": "9f103d74-1da0-4072-a6cd-e84254ad2ba7",
   "metadata": {},
   "outputs": [
    {
     "name": "stdout",
     "output_type": "stream",
     "text": [
      "Reg    10\n",
      "Log     5\n",
      "dtype: int64\n"
     ]
    }
   ],
   "source": [
    "sozluk=pd.Series(deger)\n",
    "print(sozluk)"
   ]
  },
  {
   "cell_type": "code",
   "execution_count": 113,
   "id": "a57d9054-2773-4207-bb87-d881bea8430a",
   "metadata": {},
   "outputs": [
    {
     "data": {
      "text/plain": [
       "Reg    10\n",
       "Log     5\n",
       "Reg    10\n",
       "Log     5\n",
       "dtype: int64"
      ]
     },
     "execution_count": 113,
     "metadata": {},
     "output_type": "execute_result"
    }
   ],
   "source": [
    "pd.concat([sozluk,sozluk])"
   ]
  },
  {
   "cell_type": "markdown",
   "id": "f45d7281-307e-4d40-90db-42867ee6c238",
   "metadata": {},
   "source": [
    "### **Eleman İşlemleri**"
   ]
  },
  {
   "cell_type": "code",
   "execution_count": null,
   "id": "0f3e5726-01df-4f0f-af65-e2fcd2d29938",
   "metadata": {},
   "outputs": [],
   "source": []
  }
 ],
 "metadata": {
  "kernelspec": {
   "display_name": "Python [conda env:base] *",
   "language": "python",
   "name": "conda-base-py"
  },
  "language_info": {
   "codemirror_mode": {
    "name": "ipython",
    "version": 3
   },
   "file_extension": ".py",
   "mimetype": "text/x-python",
   "name": "python",
   "nbconvert_exporter": "python",
   "pygments_lexer": "ipython3",
   "version": "3.12.3"
  }
 },
 "nbformat": 4,
 "nbformat_minor": 5
}
