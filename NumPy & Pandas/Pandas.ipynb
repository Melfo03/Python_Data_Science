{
 "cells": [
  {
   "cell_type": "markdown",
   "id": "70efa70b-54e7-458c-8c71-1cd46822bbec",
   "metadata": {},
   "source": [
    "# **Pandas**"
   ]
  },
  {
   "cell_type": "code",
   "execution_count": 197,
   "id": "c23e5181-2fff-498b-8647-df206994ad74",
   "metadata": {},
   "outputs": [],
   "source": [
    "import pandas as pd\n",
    "import numpy as np"
   ]
  },
  {
   "cell_type": "markdown",
   "id": "825751f4-0859-413f-91fd-d409c8754d6f",
   "metadata": {},
   "source": [
    "### **Pandas Serisi Oluşturma**"
   ]
  },
  {
   "cell_type": "code",
   "execution_count": 37,
   "id": "59f9ad5a-1326-46c4-b039-e2c8c119ce7d",
   "metadata": {},
   "outputs": [
    {
     "data": {
      "text/plain": [
       "0      5\n",
       "1      6\n",
       "2      7\n",
       "3      8\n",
       "4    abc\n",
       "dtype: object"
      ]
     },
     "execution_count": 37,
     "metadata": {},
     "output_type": "execute_result"
    }
   ],
   "source": [
    "pd.Series([5,6,7,8,\"abc\"])"
   ]
  },
  {
   "cell_type": "code",
   "execution_count": 126,
   "id": "4334d40f-2393-47df-9469-0d33f230aecc",
   "metadata": {},
   "outputs": [
    {
     "data": {
      "text/plain": [
       "pandas.core.series.Series"
      ]
     },
     "execution_count": 126,
     "metadata": {},
     "output_type": "execute_result"
    }
   ],
   "source": [
    "a=pd.Series([5,6,7,8,9])\n",
    "type(serie)"
   ]
  },
  {
   "cell_type": "code",
   "execution_count": 132,
   "id": "48b47a8f-b3f8-4257-a6f4-dd5d4b83fb00",
   "metadata": {},
   "outputs": [
    {
     "data": {
      "text/plain": [
       "RangeIndex(start=0, stop=5, step=1)"
      ]
     },
     "execution_count": 132,
     "metadata": {},
     "output_type": "execute_result"
    }
   ],
   "source": [
    "a.index"
   ]
  },
  {
   "cell_type": "code",
   "execution_count": 130,
   "id": "2f81ae45-65eb-4fab-9f3a-44ccf1e98c87",
   "metadata": {},
   "outputs": [
    {
     "data": {
      "text/plain": [
       "[RangeIndex(start=0, stop=5, step=1)]"
      ]
     },
     "execution_count": 130,
     "metadata": {},
     "output_type": "execute_result"
    }
   ],
   "source": [
    "a.axes#İndex Bilgiler"
   ]
  },
  {
   "cell_type": "code",
   "execution_count": 63,
   "id": "ee84226d-d22f-4905-8b1c-f7abd15d6a43",
   "metadata": {},
   "outputs": [
    {
     "data": {
      "text/plain": [
       "dtype('int64')"
      ]
     },
     "execution_count": 63,
     "metadata": {},
     "output_type": "execute_result"
    }
   ],
   "source": [
    "a.dtype"
   ]
  },
  {
   "cell_type": "code",
   "execution_count": 65,
   "id": "c2611c5f-815c-4d43-b71e-7040985462d6",
   "metadata": {},
   "outputs": [
    {
     "data": {
      "text/plain": [
       "1"
      ]
     },
     "execution_count": 65,
     "metadata": {},
     "output_type": "execute_result"
    }
   ],
   "source": [
    "a.ndim"
   ]
  },
  {
   "cell_type": "code",
   "execution_count": 73,
   "id": "1b8ecc29-5a7e-4c6a-bc72-d9a5c1153a3a",
   "metadata": {},
   "outputs": [
    {
     "data": {
      "text/plain": [
       "array([5, 6, 7, 8, 9], dtype=int64)"
      ]
     },
     "execution_count": 73,
     "metadata": {},
     "output_type": "execute_result"
    }
   ],
   "source": [
    "a.values#İndexler Olmadan Sadece Değerleri Getirir"
   ]
  },
  {
   "cell_type": "code",
   "execution_count": 77,
   "id": "d7c4ee56-271d-41f9-a55f-0814c38f3d1d",
   "metadata": {},
   "outputs": [
    {
     "data": {
      "text/plain": [
       "0    5\n",
       "1    6\n",
       "dtype: int64"
      ]
     },
     "execution_count": 77,
     "metadata": {},
     "output_type": "execute_result"
    }
   ],
   "source": [
    "a.head(2)#İlk 2 Değeri Getirir"
   ]
  },
  {
   "cell_type": "code",
   "execution_count": 81,
   "id": "3943c65f-a8ee-44fa-8929-ec9e5436bcbf",
   "metadata": {},
   "outputs": [
    {
     "data": {
      "text/plain": [
       "3    8\n",
       "4    9\n",
       "dtype: int64"
      ]
     },
     "execution_count": 81,
     "metadata": {},
     "output_type": "execute_result"
    }
   ],
   "source": [
    "a.tail(2)#Son 2 Değeri Getirir"
   ]
  },
  {
   "cell_type": "code",
   "execution_count": 91,
   "id": "200c0e5f-df19-47f2-b931-a2e0d02cc67b",
   "metadata": {},
   "outputs": [
    {
     "name": "stdout",
     "output_type": "stream",
     "text": [
      "a    77\n",
      "b    88\n",
      "c    99\n",
      "d    22\n",
      "dtype: int64\n"
     ]
    }
   ],
   "source": [
    "b=pd.Series([77,88,99,22],index=[\"a\",\"b\",\"c\",\"d\"])\n",
    "print(b)#İndexlerin İsimlerinin Değiştirilmesi\n"
   ]
  },
  {
   "cell_type": "code",
   "execution_count": 89,
   "id": "7683186b-ee29-4227-8332-e65f5987888b",
   "metadata": {},
   "outputs": [
    {
     "data": {
      "text/plain": [
       "99"
      ]
     },
     "execution_count": 89,
     "metadata": {},
     "output_type": "execute_result"
    }
   ],
   "source": [
    "b[\"c\"]"
   ]
  },
  {
   "cell_type": "code",
   "execution_count": 93,
   "id": "d2a64e92-01d4-4b35-bd8e-a8e78f301e25",
   "metadata": {},
   "outputs": [
    {
     "data": {
      "text/plain": [
       "a    77\n",
       "b    88\n",
       "c    99\n",
       "dtype: int64"
      ]
     },
     "execution_count": 93,
     "metadata": {},
     "output_type": "execute_result"
    }
   ],
   "source": [
    "b[\"a\":\"c\"]"
   ]
  },
  {
   "cell_type": "code",
   "execution_count": 101,
   "id": "d6399014-e5fc-4a8d-8f9c-476dc5086a1f",
   "metadata": {},
   "outputs": [],
   "source": [
    "#Sözlük Üzerinden Liste Oluşturma"
   ]
  },
  {
   "cell_type": "code",
   "execution_count": 103,
   "id": "f49e0d9e-ff0b-40ae-91c8-29a35e74a06c",
   "metadata": {},
   "outputs": [],
   "source": [
    "deger={\"Reg\":10,\"Log\":5}"
   ]
  },
  {
   "cell_type": "code",
   "execution_count": 109,
   "id": "9f103d74-1da0-4072-a6cd-e84254ad2ba7",
   "metadata": {},
   "outputs": [
    {
     "name": "stdout",
     "output_type": "stream",
     "text": [
      "Reg    10\n",
      "Log     5\n",
      "dtype: int64\n"
     ]
    }
   ],
   "source": [
    "sozluk=pd.Series(deger)\n",
    "print(sozluk)"
   ]
  },
  {
   "cell_type": "code",
   "execution_count": 113,
   "id": "a57d9054-2773-4207-bb87-d881bea8430a",
   "metadata": {},
   "outputs": [
    {
     "data": {
      "text/plain": [
       "Reg    10\n",
       "Log     5\n",
       "Reg    10\n",
       "Log     5\n",
       "dtype: int64"
      ]
     },
     "execution_count": 113,
     "metadata": {},
     "output_type": "execute_result"
    }
   ],
   "source": [
    "pd.concat([sozluk,sozluk])"
   ]
  },
  {
   "cell_type": "markdown",
   "id": "f45d7281-307e-4d40-90db-42867ee6c238",
   "metadata": {},
   "source": [
    "### **Seride Eleman İşlemleri**"
   ]
  },
  {
   "cell_type": "code",
   "execution_count": 124,
   "id": "0f3e5726-01df-4f0f-af65-e2fcd2d29938",
   "metadata": {},
   "outputs": [
    {
     "name": "stdout",
     "output_type": "stream",
     "text": [
      "0    1\n",
      "1    2\n",
      "2    3\n",
      "3    4\n",
      "4    5\n",
      "dtype: int32\n"
     ]
    }
   ],
   "source": [
    "a=np.array([1,2,3,4,5])\n",
    "b=pd.Series(a)\n",
    "print(b)"
   ]
  },
  {
   "cell_type": "code",
   "execution_count": 136,
   "id": "5d20fb8b-e9f3-4579-985b-0186dffd2be7",
   "metadata": {},
   "outputs": [
    {
     "name": "stdout",
     "output_type": "stream",
     "text": [
      "Aa    111\n",
      "Bb    222\n",
      "Cc    333\n",
      "dtype: int64\n"
     ]
    }
   ],
   "source": [
    "seri=pd.Series([111,222,333],index=(\"Aa\",\"Bb\",\"Cc\"))\n",
    "print(seri)"
   ]
  },
  {
   "cell_type": "code",
   "execution_count": 138,
   "id": "384b016f-a6f0-4b5f-939a-f384ffef2211",
   "metadata": {},
   "outputs": [
    {
     "data": {
      "text/plain": [
       "Index(['Aa', 'Bb', 'Cc'], dtype='object')"
      ]
     },
     "execution_count": 138,
     "metadata": {},
     "output_type": "execute_result"
    }
   ],
   "source": [
    "seri.index"
   ]
  },
  {
   "cell_type": "code",
   "execution_count": 140,
   "id": "2182c002-4229-41c0-84d2-74c940e4af60",
   "metadata": {},
   "outputs": [
    {
     "data": {
      "text/plain": [
       "<bound method Series.keys of Aa    111\n",
       "Bb    222\n",
       "Cc    333\n",
       "dtype: int64>"
      ]
     },
     "execution_count": 140,
     "metadata": {},
     "output_type": "execute_result"
    }
   ],
   "source": [
    "seri.keys"
   ]
  },
  {
   "cell_type": "code",
   "execution_count": 144,
   "id": "2f7f1d6b-2914-483b-95c8-d36147cba298",
   "metadata": {},
   "outputs": [
    {
     "data": {
      "text/plain": [
       "[('Aa', 111), ('Bb', 222), ('Cc', 333)]"
      ]
     },
     "execution_count": 144,
     "metadata": {},
     "output_type": "execute_result"
    }
   ],
   "source": [
    "list(seri.items())"
   ]
  },
  {
   "cell_type": "code",
   "execution_count": 146,
   "id": "899dd01c-8820-42b2-89b0-ae886923c48e",
   "metadata": {},
   "outputs": [
    {
     "data": {
      "text/plain": [
       "array([111, 222, 333], dtype=int64)"
      ]
     },
     "execution_count": 146,
     "metadata": {},
     "output_type": "execute_result"
    }
   ],
   "source": [
    "seri.values"
   ]
  },
  {
   "cell_type": "code",
   "execution_count": 154,
   "id": "71daf3a7-6570-4e50-b9b2-866d76533731",
   "metadata": {},
   "outputs": [],
   "source": [
    "#Eleman Sorgusu"
   ]
  },
  {
   "cell_type": "code",
   "execution_count": 160,
   "id": "533a246d-b879-4dab-a52a-f9fcad28ac37",
   "metadata": {},
   "outputs": [
    {
     "data": {
      "text/plain": [
       "True"
      ]
     },
     "execution_count": 160,
     "metadata": {},
     "output_type": "execute_result"
    }
   ],
   "source": [
    "\"Cc\" in seri #\"Cc\" İndexi Seride Var Mı Sorgusu"
   ]
  },
  {
   "cell_type": "code",
   "execution_count": 162,
   "id": "457d2f44-fc71-4fa2-adc3-bab79374ec8f",
   "metadata": {},
   "outputs": [],
   "source": [
    "#Fancy Eleman Seçimi"
   ]
  },
  {
   "cell_type": "code",
   "execution_count": 164,
   "id": "e81cc090-32be-4ef1-9ba1-a074c3608b07",
   "metadata": {},
   "outputs": [
    {
     "data": {
      "text/plain": [
       "Cc    333\n",
       "Bb    222\n",
       "dtype: int64"
      ]
     },
     "execution_count": 164,
     "metadata": {},
     "output_type": "execute_result"
    }
   ],
   "source": [
    "seri[[\"Cc\",\"Bb\"]]"
   ]
  },
  {
   "cell_type": "code",
   "execution_count": 166,
   "id": "c8371971-4a41-4fec-bfe1-305e4d49908a",
   "metadata": {},
   "outputs": [
    {
     "data": {
      "text/plain": [
       "Aa    111\n",
       "Bb    222\n",
       "Cc    333\n",
       "dtype: int64"
      ]
     },
     "execution_count": 166,
     "metadata": {},
     "output_type": "execute_result"
    }
   ],
   "source": [
    "seri[\"Aa\":\"Cc\"]"
   ]
  },
  {
   "cell_type": "code",
   "execution_count": 168,
   "id": "44876b95-1049-44f0-96b5-b75854a098a1",
   "metadata": {},
   "outputs": [],
   "source": [
    "#Eleman Değeri Değiştirme"
   ]
  },
  {
   "cell_type": "code",
   "execution_count": 170,
   "id": "022e7a4f-682e-4797-9de4-c3e16bec018e",
   "metadata": {},
   "outputs": [
    {
     "name": "stdout",
     "output_type": "stream",
     "text": [
      "Aa    99999\n",
      "Bb      222\n",
      "Cc      333\n",
      "dtype: int64\n"
     ]
    }
   ],
   "source": [
    "seri[\"Aa\"]=99999\n",
    "print(seri)"
   ]
  },
  {
   "cell_type": "markdown",
   "id": "b88127e1-5932-4d08-a616-b23613685a3a",
   "metadata": {},
   "source": [
    "### **DataFrame Oluşturma**"
   ]
  },
  {
   "cell_type": "code",
   "execution_count": 177,
   "id": "62f75e0b-4061-4325-a008-d4b6770b778d",
   "metadata": {},
   "outputs": [
    {
     "name": "stdout",
     "output_type": "stream",
     "text": [
      "(111, 222, 333)\n"
     ]
    }
   ],
   "source": [
    "l=(111,222,333)\n",
    "print(l)"
   ]
  },
  {
   "cell_type": "code",
   "execution_count": 181,
   "id": "9ad4a47e-a1cc-4f45-b531-9cce59bd49ea",
   "metadata": {},
   "outputs": [
    {
     "data": {
      "text/plain": [
       "222"
      ]
     },
     "execution_count": 181,
     "metadata": {},
     "output_type": "execute_result"
    }
   ],
   "source": []
  },
  {
   "cell_type": "code",
   "execution_count": 183,
   "id": "17c5399a-0daa-4ccc-96ad-22c507fa3ec4",
   "metadata": {},
   "outputs": [
    {
     "data": {
      "text/html": [
       "<div>\n",
       "<style scoped>\n",
       "    .dataframe tbody tr th:only-of-type {\n",
       "        vertical-align: middle;\n",
       "    }\n",
       "\n",
       "    .dataframe tbody tr th {\n",
       "        vertical-align: top;\n",
       "    }\n",
       "\n",
       "    .dataframe thead th {\n",
       "        text-align: right;\n",
       "    }\n",
       "</style>\n",
       "<table border=\"1\" class=\"dataframe\">\n",
       "  <thead>\n",
       "    <tr style=\"text-align: right;\">\n",
       "      <th></th>\n",
       "      <th>Variables</th>\n",
       "    </tr>\n",
       "  </thead>\n",
       "  <tbody>\n",
       "    <tr>\n",
       "      <th>a</th>\n",
       "      <td>111</td>\n",
       "    </tr>\n",
       "    <tr>\n",
       "      <th>b</th>\n",
       "      <td>222</td>\n",
       "    </tr>\n",
       "    <tr>\n",
       "      <th>c</th>\n",
       "      <td>333</td>\n",
       "    </tr>\n",
       "  </tbody>\n",
       "</table>\n",
       "</div>"
      ],
      "text/plain": [
       "   Variables\n",
       "a        111\n",
       "b        222\n",
       "c        333"
      ]
     },
     "execution_count": 183,
     "metadata": {},
     "output_type": "execute_result"
    }
   ],
   "source": [
    "pd.DataFrame(l,columns=[\"Variables\"],index=[\"a\",\"b\",\"c\"])"
   ]
  },
  {
   "cell_type": "code",
   "execution_count": 193,
   "id": "3bd344a2-a6e4-4483-beac-ab97a831934b",
   "metadata": {},
   "outputs": [],
   "source": [
    "#İsimlendirme Değişiklikleri"
   ]
  },
  {
   "cell_type": "code",
   "execution_count": 212,
   "id": "e8390763-212c-48c4-ab1c-d1c3d1cf1e42",
   "metadata": {},
   "outputs": [
    {
     "name": "stdout",
     "output_type": "stream",
     "text": [
      "[[1 2 3]\n",
      " [4 5 6]\n",
      " [7 8 9]]\n"
     ]
    }
   ],
   "source": [
    "a=np.arange(1,10).reshape(3,3)\n",
    "print(a)"
   ]
  },
  {
   "cell_type": "code",
   "execution_count": 226,
   "id": "b487944a-2359-46a3-a1f0-eb0c5e07756b",
   "metadata": {},
   "outputs": [
    {
     "name": "stdout",
     "output_type": "stream",
     "text": [
      "   a  b  c\n",
      "1  1  2  3\n",
      "2  4  5  6\n",
      "3  7  8  9\n"
     ]
    }
   ],
   "source": [
    "df=pd.DataFrame(a,columns=[\"a\",\"b\",\"c\"],index=(1,2,3))\n",
    "print(df)"
   ]
  },
  {
   "cell_type": "code",
   "execution_count": 232,
   "id": "facaced1-00fd-4f27-b19f-ff081f9f0047",
   "metadata": {},
   "outputs": [
    {
     "name": "stdout",
     "output_type": "stream",
     "text": [
      "   col1  col2  col3\n",
      "1     1     2     3\n",
      "2     4     5     6\n",
      "3     7     8     9\n"
     ]
    }
   ],
   "source": [
    "df.columns=[\"col1\",\"col2\",\"col3\"]\n",
    "print(df)"
   ]
  },
  {
   "cell_type": "code",
   "execution_count": 234,
   "id": "08ad362f-30f0-41df-a0bb-402564b87cfb",
   "metadata": {},
   "outputs": [
    {
     "data": {
      "text/plain": [
       "(3, 3)"
      ]
     },
     "execution_count": 234,
     "metadata": {},
     "output_type": "execute_result"
    }
   ],
   "source": [
    "df.shape"
   ]
  },
  {
   "cell_type": "code",
   "execution_count": 236,
   "id": "abd7c931-eaba-4802-aa6e-ab3158faf3ac",
   "metadata": {},
   "outputs": [
    {
     "data": {
      "text/plain": [
       "9"
      ]
     },
     "execution_count": 236,
     "metadata": {},
     "output_type": "execute_result"
    }
   ],
   "source": [
    "df.size"
   ]
  },
  {
   "cell_type": "code",
   "execution_count": 240,
   "id": "04de9989-da69-43df-bab3-21947982da25",
   "metadata": {},
   "outputs": [
    {
     "name": "stdout",
     "output_type": "stream",
     "text": [
      "[[1 2 3]\n",
      " [4 5 6]\n",
      " [7 8 9]]\n"
     ]
    }
   ],
   "source": [
    "v=df.values\n",
    "print(v)"
   ]
  },
  {
   "cell_type": "code",
   "execution_count": 244,
   "id": "e36fad97-9189-4b45-84df-ae23d00b666d",
   "metadata": {},
   "outputs": [
    {
     "data": {
      "text/plain": [
       "numpy.ndarray"
      ]
     },
     "execution_count": 244,
     "metadata": {},
     "output_type": "execute_result"
    }
   ],
   "source": [
    "type(v)#DataFrame Tipindeki Verideki Değerleri Numpy \n",
    "       #Arrayi Olarak Getirir"
   ]
  },
  {
   "cell_type": "code",
   "execution_count": 246,
   "id": "846311e9-ca15-4f37-b95d-2c3e671c81c0",
   "metadata": {},
   "outputs": [
    {
     "data": {
      "text/html": [
       "<div>\n",
       "<style scoped>\n",
       "    .dataframe tbody tr th:only-of-type {\n",
       "        vertical-align: middle;\n",
       "    }\n",
       "\n",
       "    .dataframe tbody tr th {\n",
       "        vertical-align: top;\n",
       "    }\n",
       "\n",
       "    .dataframe thead th {\n",
       "        text-align: right;\n",
       "    }\n",
       "</style>\n",
       "<table border=\"1\" class=\"dataframe\">\n",
       "  <thead>\n",
       "    <tr style=\"text-align: right;\">\n",
       "      <th></th>\n",
       "      <th>col1</th>\n",
       "      <th>col2</th>\n",
       "      <th>col3</th>\n",
       "    </tr>\n",
       "  </thead>\n",
       "  <tbody>\n",
       "    <tr>\n",
       "      <th>1</th>\n",
       "      <td>1</td>\n",
       "      <td>2</td>\n",
       "      <td>3</td>\n",
       "    </tr>\n",
       "    <tr>\n",
       "      <th>2</th>\n",
       "      <td>4</td>\n",
       "      <td>5</td>\n",
       "      <td>6</td>\n",
       "    </tr>\n",
       "  </tbody>\n",
       "</table>\n",
       "</div>"
      ],
      "text/plain": [
       "   col1  col2  col3\n",
       "1     1     2     3\n",
       "2     4     5     6"
      ]
     },
     "execution_count": 246,
     "metadata": {},
     "output_type": "execute_result"
    }
   ],
   "source": [
    "df.head(2)"
   ]
  },
  {
   "cell_type": "code",
   "execution_count": 248,
   "id": "5c549361-d7e6-401e-a3fb-ecd4b502a25e",
   "metadata": {},
   "outputs": [
    {
     "data": {
      "text/html": [
       "<div>\n",
       "<style scoped>\n",
       "    .dataframe tbody tr th:only-of-type {\n",
       "        vertical-align: middle;\n",
       "    }\n",
       "\n",
       "    .dataframe tbody tr th {\n",
       "        vertical-align: top;\n",
       "    }\n",
       "\n",
       "    .dataframe thead th {\n",
       "        text-align: right;\n",
       "    }\n",
       "</style>\n",
       "<table border=\"1\" class=\"dataframe\">\n",
       "  <thead>\n",
       "    <tr style=\"text-align: right;\">\n",
       "      <th></th>\n",
       "      <th>col1</th>\n",
       "      <th>col2</th>\n",
       "      <th>col3</th>\n",
       "    </tr>\n",
       "  </thead>\n",
       "  <tbody>\n",
       "    <tr>\n",
       "      <th>3</th>\n",
       "      <td>7</td>\n",
       "      <td>8</td>\n",
       "      <td>9</td>\n",
       "    </tr>\n",
       "  </tbody>\n",
       "</table>\n",
       "</div>"
      ],
      "text/plain": [
       "   col1  col2  col3\n",
       "3     7     8     9"
      ]
     },
     "execution_count": 248,
     "metadata": {},
     "output_type": "execute_result"
    }
   ],
   "source": [
    "df.tail(1)"
   ]
  },
  {
   "cell_type": "markdown",
   "id": "5e119673-675d-411a-bf7c-6d5f4750333a",
   "metadata": {},
   "source": [
    "### **DataFramde Eleman İşlemeri**"
   ]
  }
 ],
 "metadata": {
  "kernelspec": {
   "display_name": "Python [conda env:base] *",
   "language": "python",
   "name": "conda-base-py"
  },
  "language_info": {
   "codemirror_mode": {
    "name": "ipython",
    "version": 3
   },
   "file_extension": ".py",
   "mimetype": "text/x-python",
   "name": "python",
   "nbconvert_exporter": "python",
   "pygments_lexer": "ipython3",
   "version": "3.12.3"
  }
 },
 "nbformat": 4,
 "nbformat_minor": 5
}
