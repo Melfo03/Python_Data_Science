{
 "cells": [
  {
   "cell_type": "markdown",
   "id": "ea6d8c33-c6e7-429e-b011-a71de9f44c6c",
   "metadata": {},
   "source": [
    "# İstatistik"
   ]
  },
  {
   "cell_type": "markdown",
   "id": "56c70a22-1ded-419f-98d4-119be35f1242",
   "metadata": {},
   "source": [
    "## Örnek Teorisi\n"
   ]
  },
  {
   "cell_type": "code",
   "execution_count": 73,
   "id": "76f4d2a2-618d-4efa-a849-4bf144ba8b05",
   "metadata": {},
   "outputs": [],
   "source": [
    "import numpy as np\n",
    "import pandas as pd"
   ]
  },
  {
   "cell_type": "code",
   "execution_count": 122,
   "id": "27431814-d600-4ab0-9901-5b126776af46",
   "metadata": {},
   "outputs": [
    {
     "data": {
      "text/plain": [
       "39.5931"
      ]
     },
     "execution_count": 122,
     "metadata": {},
     "output_type": "execute_result"
    }
   ],
   "source": [
    "populasyon=np.random.randint(0,80,10000)\n",
    "populasyon.mean()"
   ]
  },
  {
   "cell_type": "code",
   "execution_count": 120,
   "id": "7f45bcb7-5a4a-4605-8564-991eb4a84158",
   "metadata": {},
   "outputs": [
    {
     "data": {
      "text/plain": [
       "42.06"
      ]
     },
     "execution_count": 120,
     "metadata": {},
     "output_type": "execute_result"
    }
   ],
   "source": [
    "#Orneklem Çekimi\n",
    "np.random.seed(15)\n",
    "orneklem=np.random.choice(a=populasyon,size=100)\n",
    "orneklem.mean()"
   ]
  },
  {
   "cell_type": "code",
   "execution_count": 130,
   "id": "7523d5b8-56e2-4074-878c-11d75e3a2479",
   "metadata": {},
   "outputs": [],
   "source": [
    "#Örneklem Dağılımı\n",
    "np.random.seed(10)\n",
    "orneklem1 = np.random.choice(a = populasyon, size = 100)\n",
    "orneklem2 = np.random.choice(a = populasyon, size = 100)\n",
    "orneklem3 = np.random.choice(a = populasyon, size = 100)\n",
    "orneklem4 = np.random.choice(a = populasyon, size = 100)\n",
    "orneklem5 = np.random.choice(a = populasyon, size = 100)\n",
    "orneklem6 = np.random.choice(a = populasyon, size = 100)\n",
    "orneklem7 = np.random.choice(a = populasyon, size = 100)\n",
    "orneklem8 = np.random.choice(a = populasyon, size = 100)\n",
    "orneklem9 = np.random.choice(a = populasyon, size = 100)\n",
    "orneklem10 = np.random.choice(a = populasyon, size = 100)"
   ]
  },
  {
   "cell_type": "code",
   "execution_count": 128,
   "id": "145de1c1-1597-4a87-94fe-3b3627ee2b77",
   "metadata": {},
   "outputs": [
    {
     "data": {
      "text/plain": [
       "38.104"
      ]
     },
     "execution_count": 128,
     "metadata": {},
     "output_type": "execute_result"
    }
   ],
   "source": [
    "(orneklem1.mean() + orneklem2.mean() + orneklem3.mean() + orneklem4.mean() + orneklem5.mean() \n",
    "+ orneklem6.mean() + orneklem7.mean() + orneklem8.mean() + orneklem9.mean() + orneklem10.mean() )  / 10"
   ]
  },
  {
   "cell_type": "markdown",
   "id": "7d2fb086-4f9a-4831-9e4b-649b9a419edb",
   "metadata": {},
   "source": [
    "## Betimsel İstatistikler"
   ]
  },
  {
   "cell_type": "markdown",
   "id": "81e856d6-d7dd-4163-a57c-162f974f3915",
   "metadata": {},
   "source": [
    "### Kovaryans:İki değişken arasındaki ilişkinin değişkenlik ölçüsü\n",
    "### Korelasyon: İki değişken arasındaki ilişkinin anlamlı olup olmamasını ve şiddetini temsil eder"
   ]
  },
  {
   "cell_type": "code",
   "execution_count": 133,
   "id": "e4f7f0c4-7ea5-4f5f-b2fc-ad6f028c450d",
   "metadata": {},
   "outputs": [],
   "source": [
    "import seaborn as sns\n",
    "tips=sns.load_dataset(\"tips\")\n",
    "df=tips.copy()"
   ]
  },
  {
   "cell_type": "code",
   "execution_count": 135,
   "id": "59dbfc19-e233-474b-9ea7-658e28b08727",
   "metadata": {},
   "outputs": [
    {
     "data": {
      "text/html": [
       "<div>\n",
       "<style scoped>\n",
       "    .dataframe tbody tr th:only-of-type {\n",
       "        vertical-align: middle;\n",
       "    }\n",
       "\n",
       "    .dataframe tbody tr th {\n",
       "        vertical-align: top;\n",
       "    }\n",
       "\n",
       "    .dataframe thead th {\n",
       "        text-align: right;\n",
       "    }\n",
       "</style>\n",
       "<table border=\"1\" class=\"dataframe\">\n",
       "  <thead>\n",
       "    <tr style=\"text-align: right;\">\n",
       "      <th></th>\n",
       "      <th>total_bill</th>\n",
       "      <th>tip</th>\n",
       "      <th>sex</th>\n",
       "      <th>smoker</th>\n",
       "      <th>day</th>\n",
       "      <th>time</th>\n",
       "      <th>size</th>\n",
       "    </tr>\n",
       "  </thead>\n",
       "  <tbody>\n",
       "    <tr>\n",
       "      <th>0</th>\n",
       "      <td>16.99</td>\n",
       "      <td>1.01</td>\n",
       "      <td>Female</td>\n",
       "      <td>No</td>\n",
       "      <td>Sun</td>\n",
       "      <td>Dinner</td>\n",
       "      <td>2</td>\n",
       "    </tr>\n",
       "    <tr>\n",
       "      <th>1</th>\n",
       "      <td>10.34</td>\n",
       "      <td>1.66</td>\n",
       "      <td>Male</td>\n",
       "      <td>No</td>\n",
       "      <td>Sun</td>\n",
       "      <td>Dinner</td>\n",
       "      <td>3</td>\n",
       "    </tr>\n",
       "    <tr>\n",
       "      <th>2</th>\n",
       "      <td>21.01</td>\n",
       "      <td>3.50</td>\n",
       "      <td>Male</td>\n",
       "      <td>No</td>\n",
       "      <td>Sun</td>\n",
       "      <td>Dinner</td>\n",
       "      <td>3</td>\n",
       "    </tr>\n",
       "    <tr>\n",
       "      <th>3</th>\n",
       "      <td>23.68</td>\n",
       "      <td>3.31</td>\n",
       "      <td>Male</td>\n",
       "      <td>No</td>\n",
       "      <td>Sun</td>\n",
       "      <td>Dinner</td>\n",
       "      <td>2</td>\n",
       "    </tr>\n",
       "    <tr>\n",
       "      <th>4</th>\n",
       "      <td>24.59</td>\n",
       "      <td>3.61</td>\n",
       "      <td>Female</td>\n",
       "      <td>No</td>\n",
       "      <td>Sun</td>\n",
       "      <td>Dinner</td>\n",
       "      <td>4</td>\n",
       "    </tr>\n",
       "  </tbody>\n",
       "</table>\n",
       "</div>"
      ],
      "text/plain": [
       "   total_bill   tip     sex smoker  day    time  size\n",
       "0       16.99  1.01  Female     No  Sun  Dinner     2\n",
       "1       10.34  1.66    Male     No  Sun  Dinner     3\n",
       "2       21.01  3.50    Male     No  Sun  Dinner     3\n",
       "3       23.68  3.31    Male     No  Sun  Dinner     2\n",
       "4       24.59  3.61  Female     No  Sun  Dinner     4"
      ]
     },
     "execution_count": 135,
     "metadata": {},
     "output_type": "execute_result"
    }
   ],
   "source": [
    "df.head()"
   ]
  },
  {
   "cell_type": "code",
   "execution_count": 137,
   "id": "be4aae04-83a1-4686-84b2-853ab1db401b",
   "metadata": {},
   "outputs": [
    {
     "data": {
      "text/html": [
       "<div>\n",
       "<style scoped>\n",
       "    .dataframe tbody tr th:only-of-type {\n",
       "        vertical-align: middle;\n",
       "    }\n",
       "\n",
       "    .dataframe tbody tr th {\n",
       "        vertical-align: top;\n",
       "    }\n",
       "\n",
       "    .dataframe thead th {\n",
       "        text-align: right;\n",
       "    }\n",
       "</style>\n",
       "<table border=\"1\" class=\"dataframe\">\n",
       "  <thead>\n",
       "    <tr style=\"text-align: right;\">\n",
       "      <th></th>\n",
       "      <th>count</th>\n",
       "      <th>mean</th>\n",
       "      <th>std</th>\n",
       "      <th>min</th>\n",
       "      <th>25%</th>\n",
       "      <th>50%</th>\n",
       "      <th>75%</th>\n",
       "      <th>max</th>\n",
       "    </tr>\n",
       "  </thead>\n",
       "  <tbody>\n",
       "    <tr>\n",
       "      <th>total_bill</th>\n",
       "      <td>244.0</td>\n",
       "      <td>19.785943</td>\n",
       "      <td>8.902412</td>\n",
       "      <td>3.07</td>\n",
       "      <td>13.3475</td>\n",
       "      <td>17.795</td>\n",
       "      <td>24.1275</td>\n",
       "      <td>50.81</td>\n",
       "    </tr>\n",
       "    <tr>\n",
       "      <th>tip</th>\n",
       "      <td>244.0</td>\n",
       "      <td>2.998279</td>\n",
       "      <td>1.383638</td>\n",
       "      <td>1.00</td>\n",
       "      <td>2.0000</td>\n",
       "      <td>2.900</td>\n",
       "      <td>3.5625</td>\n",
       "      <td>10.00</td>\n",
       "    </tr>\n",
       "    <tr>\n",
       "      <th>size</th>\n",
       "      <td>244.0</td>\n",
       "      <td>2.569672</td>\n",
       "      <td>0.951100</td>\n",
       "      <td>1.00</td>\n",
       "      <td>2.0000</td>\n",
       "      <td>2.000</td>\n",
       "      <td>3.0000</td>\n",
       "      <td>6.00</td>\n",
       "    </tr>\n",
       "  </tbody>\n",
       "</table>\n",
       "</div>"
      ],
      "text/plain": [
       "            count       mean       std   min      25%     50%      75%    max\n",
       "total_bill  244.0  19.785943  8.902412  3.07  13.3475  17.795  24.1275  50.81\n",
       "tip         244.0   2.998279  1.383638  1.00   2.0000   2.900   3.5625  10.00\n",
       "size        244.0   2.569672  0.951100  1.00   2.0000   2.000   3.0000   6.00"
      ]
     },
     "execution_count": 137,
     "metadata": {},
     "output_type": "execute_result"
    }
   ],
   "source": [
    "df.describe().T"
   ]
  },
  {
   "cell_type": "code",
   "execution_count": 139,
   "id": "3a169c26-f6fb-4ca3-a88b-88bd31e26b93",
   "metadata": {},
   "outputs": [
    {
     "name": "stdout",
     "output_type": "stream",
     "text": [
      "<class 'pandas.core.frame.DataFrame'>\n",
      "RangeIndex: 244 entries, 0 to 243\n",
      "Data columns (total 7 columns):\n",
      " #   Column      Non-Null Count  Dtype   \n",
      "---  ------      --------------  -----   \n",
      " 0   total_bill  244 non-null    float64 \n",
      " 1   tip         244 non-null    float64 \n",
      " 2   sex         244 non-null    category\n",
      " 3   smoker      244 non-null    category\n",
      " 4   day         244 non-null    category\n",
      " 5   time        244 non-null    category\n",
      " 6   size        244 non-null    int64   \n",
      "dtypes: category(4), float64(2), int64(1)\n",
      "memory usage: 7.4 KB\n"
     ]
    }
   ],
   "source": [
    "df.info()"
   ]
  },
  {
   "cell_type": "code",
   "execution_count": 149,
   "id": "aeaf23bf-d7bb-4f23-a312-247e25f183e9",
   "metadata": {
    "collapsed": true,
    "jupyter": {
     "outputs_hidden": true
    },
    "scrolled": true
   },
   "outputs": [
    {
     "name": "stdout",
     "output_type": "stream",
     "text": [
      "Collecting researchpy\n",
      "  Downloading researchpy-0.3.6-py3-none-any.whl.metadata (1.2 kB)\n",
      "Requirement already satisfied: scipy in c:\\users\\pc\\anaconda3\\lib\\site-packages (from researchpy) (1.13.1)\n",
      "Requirement already satisfied: numpy in c:\\users\\pc\\anaconda3\\lib\\site-packages (from researchpy) (1.26.4)\n",
      "Requirement already satisfied: pandas in c:\\users\\pc\\anaconda3\\lib\\site-packages (from researchpy) (2.2.2)\n",
      "Requirement already satisfied: statsmodels in c:\\users\\pc\\anaconda3\\lib\\site-packages (from researchpy) (0.14.2)\n",
      "Requirement already satisfied: patsy in c:\\users\\pc\\anaconda3\\lib\\site-packages (from researchpy) (0.5.6)\n",
      "Requirement already satisfied: python-dateutil>=2.8.2 in c:\\users\\pc\\anaconda3\\lib\\site-packages (from pandas->researchpy) (2.9.0.post0)\n",
      "Requirement already satisfied: pytz>=2020.1 in c:\\users\\pc\\anaconda3\\lib\\site-packages (from pandas->researchpy) (2024.1)\n",
      "Requirement already satisfied: tzdata>=2022.7 in c:\\users\\pc\\anaconda3\\lib\\site-packages (from pandas->researchpy) (2023.3)\n",
      "Requirement already satisfied: six in c:\\users\\pc\\anaconda3\\lib\\site-packages (from patsy->researchpy) (1.16.0)\n",
      "Requirement already satisfied: packaging>=21.3 in c:\\users\\pc\\anaconda3\\lib\\site-packages (from statsmodels->researchpy) (24.1)\n",
      "Downloading researchpy-0.3.6-py3-none-any.whl (34 kB)\n",
      "Installing collected packages: researchpy\n",
      "Successfully installed researchpy-0.3.6\n"
     ]
    }
   ],
   "source": [
    "!pip install researchpy"
   ]
  },
  {
   "cell_type": "code",
   "execution_count": 153,
   "id": "95e27323-1f6d-4506-b78b-39b3bd4c7007",
   "metadata": {},
   "outputs": [],
   "source": [
    "import researchpy as rp"
   ]
  },
  {
   "cell_type": "code",
   "execution_count": 158,
   "id": "602a3489-6c47-4113-8e8f-559707900bf7",
   "metadata": {
    "collapsed": true,
    "jupyter": {
     "outputs_hidden": true
    },
    "scrolled": true
   },
   "outputs": [
    {
     "name": "stdout",
     "output_type": "stream",
     "text": [
      "\n",
      "\n"
     ]
    },
    {
     "name": "stderr",
     "output_type": "stream",
     "text": [
      "C:\\Users\\pc\\anaconda3\\Lib\\site-packages\\researchpy\\summary.py:102: FutureWarning: Setting an item of incompatible dtype is deprecated and will raise an error in a future version of pandas. Value 'total_bill' has dtype incompatible with float64, please explicitly cast to a compatible dtype first.\n",
      "  table_a.iloc[0,0] = ix\n",
      "C:\\Users\\pc\\anaconda3\\Lib\\site-packages\\researchpy\\summary.py:102: FutureWarning: Setting an item of incompatible dtype is deprecated and will raise an error in a future version of pandas. Value 'tip' has dtype incompatible with float64, please explicitly cast to a compatible dtype first.\n",
      "  table_a.iloc[0,0] = ix\n"
     ]
    },
    {
     "data": {
      "text/html": [
       "<div>\n",
       "<style scoped>\n",
       "    .dataframe tbody tr th:only-of-type {\n",
       "        vertical-align: middle;\n",
       "    }\n",
       "\n",
       "    .dataframe tbody tr th {\n",
       "        vertical-align: top;\n",
       "    }\n",
       "\n",
       "    .dataframe thead th {\n",
       "        text-align: right;\n",
       "    }\n",
       "</style>\n",
       "<table border=\"1\" class=\"dataframe\">\n",
       "  <thead>\n",
       "    <tr style=\"text-align: right;\">\n",
       "      <th></th>\n",
       "      <th>Variable</th>\n",
       "      <th>N</th>\n",
       "      <th>Mean</th>\n",
       "      <th>SD</th>\n",
       "      <th>SE</th>\n",
       "      <th>95% Conf.</th>\n",
       "      <th>Interval</th>\n",
       "    </tr>\n",
       "  </thead>\n",
       "  <tbody>\n",
       "    <tr>\n",
       "      <th>0</th>\n",
       "      <td>total_bill</td>\n",
       "      <td>244.0</td>\n",
       "      <td>19.7859</td>\n",
       "      <td>8.9024</td>\n",
       "      <td>0.5699</td>\n",
       "      <td>18.6633</td>\n",
       "      <td>20.9086</td>\n",
       "    </tr>\n",
       "    <tr>\n",
       "      <th>1</th>\n",
       "      <td>tip</td>\n",
       "      <td>244.0</td>\n",
       "      <td>2.9983</td>\n",
       "      <td>1.3836</td>\n",
       "      <td>0.0886</td>\n",
       "      <td>2.8238</td>\n",
       "      <td>3.1728</td>\n",
       "    </tr>\n",
       "  </tbody>\n",
       "</table>\n",
       "</div>"
      ],
      "text/plain": [
       "     Variable      N     Mean      SD      SE  95% Conf.  Interval\n",
       "0  total_bill  244.0  19.7859  8.9024  0.5699    18.6633   20.9086\n",
       "1         tip  244.0   2.9983  1.3836  0.0886     2.8238    3.1728"
      ]
     },
     "execution_count": 158,
     "metadata": {},
     "output_type": "execute_result"
    }
   ],
   "source": [
    "rp.summary_cont(df[[\"total_bill\",\"tip\"]])"
   ]
  },
  {
   "cell_type": "code",
   "execution_count": 162,
   "id": "7ef599a6-c15e-4029-9eeb-7ac8df9005e5",
   "metadata": {},
   "outputs": [
    {
     "data": {
      "text/html": [
       "<div>\n",
       "<style scoped>\n",
       "    .dataframe tbody tr th:only-of-type {\n",
       "        vertical-align: middle;\n",
       "    }\n",
       "\n",
       "    .dataframe tbody tr th {\n",
       "        vertical-align: top;\n",
       "    }\n",
       "\n",
       "    .dataframe thead th {\n",
       "        text-align: right;\n",
       "    }\n",
       "</style>\n",
       "<table border=\"1\" class=\"dataframe\">\n",
       "  <thead>\n",
       "    <tr style=\"text-align: right;\">\n",
       "      <th></th>\n",
       "      <th>Variable</th>\n",
       "      <th>Outcome</th>\n",
       "      <th>Count</th>\n",
       "      <th>Percent</th>\n",
       "    </tr>\n",
       "  </thead>\n",
       "  <tbody>\n",
       "    <tr>\n",
       "      <th>0</th>\n",
       "      <td>sex</td>\n",
       "      <td>Male</td>\n",
       "      <td>157</td>\n",
       "      <td>64.34</td>\n",
       "    </tr>\n",
       "    <tr>\n",
       "      <th>1</th>\n",
       "      <td></td>\n",
       "      <td>Female</td>\n",
       "      <td>87</td>\n",
       "      <td>35.66</td>\n",
       "    </tr>\n",
       "    <tr>\n",
       "      <th>2</th>\n",
       "      <td>smoker</td>\n",
       "      <td>No</td>\n",
       "      <td>151</td>\n",
       "      <td>61.89</td>\n",
       "    </tr>\n",
       "    <tr>\n",
       "      <th>3</th>\n",
       "      <td></td>\n",
       "      <td>Yes</td>\n",
       "      <td>93</td>\n",
       "      <td>38.11</td>\n",
       "    </tr>\n",
       "  </tbody>\n",
       "</table>\n",
       "</div>"
      ],
      "text/plain": [
       "  Variable Outcome  Count  Percent\n",
       "0      sex    Male    157    64.34\n",
       "1           Female     87    35.66\n",
       "2   smoker      No    151    61.89\n",
       "3              Yes     93    38.11"
      ]
     },
     "execution_count": 162,
     "metadata": {},
     "output_type": "execute_result"
    }
   ],
   "source": [
    "rp.summary_cat(df[[\"sex\",\"smoker\"]])"
   ]
  },
  {
   "cell_type": "code",
   "execution_count": 164,
   "id": "223d37af-1cff-4eb5-a351-5326856e3ed5",
   "metadata": {},
   "outputs": [
    {
     "data": {
      "text/html": [
       "<div>\n",
       "<style scoped>\n",
       "    .dataframe tbody tr th:only-of-type {\n",
       "        vertical-align: middle;\n",
       "    }\n",
       "\n",
       "    .dataframe tbody tr th {\n",
       "        vertical-align: top;\n",
       "    }\n",
       "\n",
       "    .dataframe thead th {\n",
       "        text-align: right;\n",
       "    }\n",
       "</style>\n",
       "<table border=\"1\" class=\"dataframe\">\n",
       "  <thead>\n",
       "    <tr style=\"text-align: right;\">\n",
       "      <th></th>\n",
       "      <th>tip</th>\n",
       "      <th>total_bill</th>\n",
       "    </tr>\n",
       "  </thead>\n",
       "  <tbody>\n",
       "    <tr>\n",
       "      <th>tip</th>\n",
       "      <td>1.914455</td>\n",
       "      <td>8.323502</td>\n",
       "    </tr>\n",
       "    <tr>\n",
       "      <th>total_bill</th>\n",
       "      <td>8.323502</td>\n",
       "      <td>79.252939</td>\n",
       "    </tr>\n",
       "  </tbody>\n",
       "</table>\n",
       "</div>"
      ],
      "text/plain": [
       "                 tip  total_bill\n",
       "tip         1.914455    8.323502\n",
       "total_bill  8.323502   79.252939"
      ]
     },
     "execution_count": 164,
     "metadata": {},
     "output_type": "execute_result"
    }
   ],
   "source": [
    "df[[\"tip\",\"total_bill\"]].cov()"
   ]
  },
  {
   "cell_type": "code",
   "execution_count": 166,
   "id": "12d0b594-454f-4b4a-8948-26d89e860003",
   "metadata": {
    "scrolled": true
   },
   "outputs": [
    {
     "data": {
      "text/html": [
       "<div>\n",
       "<style scoped>\n",
       "    .dataframe tbody tr th:only-of-type {\n",
       "        vertical-align: middle;\n",
       "    }\n",
       "\n",
       "    .dataframe tbody tr th {\n",
       "        vertical-align: top;\n",
       "    }\n",
       "\n",
       "    .dataframe thead th {\n",
       "        text-align: right;\n",
       "    }\n",
       "</style>\n",
       "<table border=\"1\" class=\"dataframe\">\n",
       "  <thead>\n",
       "    <tr style=\"text-align: right;\">\n",
       "      <th></th>\n",
       "      <th>tip</th>\n",
       "      <th>total_bill</th>\n",
       "    </tr>\n",
       "  </thead>\n",
       "  <tbody>\n",
       "    <tr>\n",
       "      <th>tip</th>\n",
       "      <td>1.000000</td>\n",
       "      <td>0.675734</td>\n",
       "    </tr>\n",
       "    <tr>\n",
       "      <th>total_bill</th>\n",
       "      <td>0.675734</td>\n",
       "      <td>1.000000</td>\n",
       "    </tr>\n",
       "  </tbody>\n",
       "</table>\n",
       "</div>"
      ],
      "text/plain": [
       "                 tip  total_bill\n",
       "tip         1.000000    0.675734\n",
       "total_bill  0.675734    1.000000"
      ]
     },
     "execution_count": 166,
     "metadata": {},
     "output_type": "execute_result"
    }
   ],
   "source": [
    "df[[\"tip\",\"total_bill\"]].corr()"
   ]
  },
  {
   "cell_type": "markdown",
   "id": "6aa11b35-073b-4846-8a2e-e8ec295136bf",
   "metadata": {},
   "source": [
    "### Uygulama:Fiyat Stratejisi"
   ]
  },
  {
   "cell_type": "code",
   "execution_count": 5,
   "id": "2f6ec68d-7273-4d3b-adb5-058d6d5b4f43",
   "metadata": {},
   "outputs": [],
   "source": [
    "import numpy as np"
   ]
  },
  {
   "cell_type": "code",
   "execution_count": 7,
   "id": "18815507-d802-4e9f-8793-f9422e81f1b9",
   "metadata": {},
   "outputs": [],
   "source": [
    "prices=np.random.randint(10,110,1000)"
   ]
  },
  {
   "cell_type": "code",
   "execution_count": 17,
   "id": "8331fce2-82cf-4146-adc4-3426c752665d",
   "metadata": {},
   "outputs": [
    {
     "data": {
      "text/plain": [
       "59.678"
      ]
     },
     "execution_count": 17,
     "metadata": {},
     "output_type": "execute_result"
    }
   ],
   "source": [
    "prices.mean()"
   ]
  },
  {
   "cell_type": "code",
   "execution_count": 19,
   "id": "678ae798-9c09-4397-ac53-588575e63044",
   "metadata": {},
   "outputs": [],
   "source": [
    "import statsmodels.stats.api as sms"
   ]
  },
  {
   "cell_type": "code",
   "execution_count": 25,
   "id": "7a3fc374-6400-456c-8249-0c4e315ea954",
   "metadata": {},
   "outputs": [
    {
     "data": {
      "text/plain": [
       "(57.864877177055455, 61.49112282294454)"
      ]
     },
     "execution_count": 25,
     "metadata": {},
     "output_type": "execute_result"
    }
   ],
   "source": [
    "sms.DescrStatsW(prices).tconfint_mean()    #%95 doğruluk ile fiyat bu aralıktadır."
   ]
  },
  {
   "cell_type": "markdown",
   "id": "d8f67558-2777-4f6c-8e9c-6781a0e19964",
   "metadata": {},
   "source": [
    "## Olasılığa ve Dağılımlara Giriş"
   ]
  },
  {
   "cell_type": "code",
   "execution_count": 29,
   "id": "d6237f41-45f1-4917-a943-11f69b9e21c0",
   "metadata": {},
   "outputs": [],
   "source": [
    "#### Rassal Değişken: Değerlerini bir deneyin sonuçlarından alan değişkendir"
   ]
  },
  {
   "cell_type": "markdown",
   "id": "19de04cb-2feb-4c5f-884c-d629bbe76645",
   "metadata": {},
   "source": [
    "## Bernoulli Dağılımı"
   ]
  },
  {
   "cell_type": "markdown",
   "id": "f9fd68f4-fd36-4c7b-a88c-d1a4794f509a",
   "metadata": {},
   "source": [
    "${\\displaystyle f(k;p)=p^{k}(1-p)^{1-k}\\quad {\\text{for }}k\\in \\{0,1\\}}$\n",
    "\n",
    "\n",
    "${\\displaystyle \\operatorname {E} \\left(X\\right)=p}$\n",
    "\n",
    "$\\operatorname {Var} [X]=pq=p(1-p)$"
   ]
  },
  {
   "cell_type": "code",
   "execution_count": 37,
   "id": "d0304266-6e52-44ad-9306-71f2fad4423d",
   "metadata": {},
   "outputs": [],
   "source": [
    "from scipy.stats import bernoulli"
   ]
  },
  {
   "cell_type": "markdown",
   "id": "6ecd8b57-b309-416b-b799-703067257a83",
   "metadata": {},
   "source": [
    "#### Yazı Tura Örneği"
   ]
  },
  {
   "cell_type": "code",
   "execution_count": 52,
   "id": "f4b72bd7-c965-4912-ba1e-a4d678f63831",
   "metadata": {},
   "outputs": [],
   "source": [
    "p=0.7  #Tura Gelme Olasılığı"
   ]
  },
  {
   "cell_type": "code",
   "execution_count": 54,
   "id": "d1218512-4393-4f3d-9e7a-f0f16dc33953",
   "metadata": {},
   "outputs": [],
   "source": [
    "result=bernoulli(p)"
   ]
  },
  {
   "cell_type": "code",
   "execution_count": 58,
   "id": "a1e235c5-b11e-4dc7-8bb5-c5beda13e97d",
   "metadata": {},
   "outputs": [
    {
     "data": {
      "text/plain": [
       "0.30000000000000004"
      ]
     },
     "execution_count": 58,
     "metadata": {},
     "output_type": "execute_result"
    }
   ],
   "source": [
    "result.pmf(k=0)  "
   ]
  },
  {
   "cell_type": "markdown",
   "id": "e2094264-b721-4de4-8d1d-4eaee865061c",
   "metadata": {},
   "source": [
    "## Binom Dağılımı"
   ]
  },
  {
   "cell_type": "markdown",
   "id": "9ecba5ed-eaa7-41e3-b71f-8fb7a7c03924",
   "metadata": {},
   "source": [
    "### Uygulama: Reklam Harcaması Optimizasyonu"
   ]
  },
  {
   "cell_type": "markdown",
   "id": "f867ff8c-8915-4469-a926-75568785c3a6",
   "metadata": {},
   "source": [
    "##### Problem:\n",
    "##### Çeşitli mecralara reklam veriliyor, reklamların tıklanma ve geri dönüşüml\n",
    "##### oranları optimize edilmeye çalışılıyor. Buna yönelik olarak belirli bir\n",
    "##### mecrada çeşitli senaryolara göre reklama tıklama olasılıkları\n",
    "##### hesaplanmak isteniliyor."
   ]
  },
  {
   "cell_type": "markdown",
   "id": "6b35fd67-0f65-4e95-9b11-65be94712153",
   "metadata": {},
   "source": [
    "##### Detaylar:\n",
    "##### Bir mecrada reklam verilecek\n",
    "##### • Dağılım ve reklama tıklama olasılığı biliniyor (0.01)\n",
    "##### • Soru: Reklamı 100 kişi gördüğünde 1,5 10 tıklanması olasılığı nedir?"
   ]
  },
  {
   "cell_type": "code",
   "execution_count": 186,
   "id": "635e73f9-e3b2-434a-8a70-9227d328e260",
   "metadata": {},
   "outputs": [],
   "source": [
    "from scipy.stats import binom"
   ]
  },
  {
   "cell_type": "code",
   "execution_count": 216,
   "id": "77f8034e-de5f-44a5-a707-a1f4d9fb2df1",
   "metadata": {},
   "outputs": [
    {
     "name": "stdout",
     "output_type": "stream",
     "text": [
      "1 kişinin görmesi olasılığı: 0.36972963764972666\n",
      "5 kişinin görmesi olasılığı: 0.002897787123761478\n",
      "10 kişinin görmesi olasılığı: 7.006035693977194e-08\n"
     ]
    }
   ],
   "source": [
    "p=0.01\n",
    "n=100\n",
    "rv=binom(n,p)\n",
    "print(\"1 kişinin görmesi olasılığı: \"+ str(rv.pmf(1)))\n",
    "print(\"5 kişinin görmesi olasılığı: \"+ str(rv.pmf(5)))\n",
    "print(\"10 kişinin görmesi olasılığı: \"+ str(rv.pmf(10)))"
   ]
  },
  {
   "cell_type": "markdown",
   "id": "a30c0947-cd77-40ac-b68d-076e5c90d614",
   "metadata": {},
   "source": [
    "## Poisson Dağılımı"
   ]
  },
  {
   "cell_type": "markdown",
   "id": "c3c8b9f8-425f-4c27-8a75-2234607a4d28",
   "metadata": {},
   "source": [
    "### Belirli bir zaman aralığında belirli bir alanda nadiren\n",
    "### rastlanan olayların olasılıklarını hesaplamak için kullanılır."
   ]
  },
  {
   "cell_type": "markdown",
   "id": "87769a6c-cf62-4c54-aab7-487bf2729108",
   "metadata": {},
   "source": [
    "### Uygulama:Hatalı ilan giriş olasılığı hesaplama"
   ]
  },
  {
   "cell_type": "code",
   "execution_count": 22,
   "id": "6c89a068-ac36-4a23-9a90-fd97aea9b6dc",
   "metadata": {},
   "outputs": [],
   "source": [
    "lambda_=0.1#Ortalama hata sayısı"
   ]
  },
  {
   "cell_type": "code",
   "execution_count": 8,
   "id": "7d52e709-751e-4dbe-8e8d-fb38320a9249",
   "metadata": {},
   "outputs": [],
   "source": [
    "from scipy.stats import poisson"
   ]
  },
  {
   "cell_type": "code",
   "execution_count": 18,
   "id": "cb41cd11-9cd1-4acc-acbf-e40d87edd83c",
   "metadata": {},
   "outputs": [
    {
     "data": {
      "text/plain": [
       "0.00015080623633932676"
      ]
     },
     "execution_count": 18,
     "metadata": {},
     "output_type": "execute_result"
    }
   ],
   "source": [
    "RV=poisson(mu=lambda_)\n",
    "RV.pmf(k=0)#Hiç hata olmaması olasılığı\n"
   ]
  },
  {
   "cell_type": "code",
   "execution_count": 20,
   "id": "c09daeb8-5c68-4ee0-b1ee-816db7b584b8",
   "metadata": {},
   "outputs": [
    {
     "data": {
      "text/plain": [
       "0.00015080623633932676"
      ]
     },
     "execution_count": 20,
     "metadata": {},
     "output_type": "execute_result"
    }
   ],
   "source": [
    "RV.pmf(k=3)#3 hata olması olasılığı"
   ]
  },
  {
   "cell_type": "markdown",
   "id": "810b8dd5-bb34-48e3-a876-42125f113c28",
   "metadata": {},
   "source": [
    "## Normal Dağılım"
   ]
  },
  {
   "cell_type": "markdown",
   "id": "1be4d80e-536d-46a3-a83f-c3978fcf6387",
   "metadata": {},
   "source": [
    "### Normal dağıldığı bilinen sürekli rassal değişkenler\n",
    "### için olasılık hesaplaması için kullanılır."
   ]
  },
  {
   "cell_type": "markdown",
   "id": "436d93ec-6968-4918-8a5b-d3632eda0db0",
   "metadata": {},
   "source": [
    "### Uygulama:Ürün Satış Olasılık Hesaplama"
   ]
  },
  {
   "cell_type": "markdown",
   "id": "b5109c0a-944d-4097-be71-fb9a0fdc6531",
   "metadata": {},
   "source": [
    "#### Problem:\n",
    "#### Bir yatırım/toplantı öncesinde gelecek ay ile ilgili satışların\n",
    "#### belirli değerlerde gerçekleşmesi olasılıkları belirlenmek isteniyor.\n",
    "#### Ortalama Satış:80k      Standart Sapma:5k"
   ]
  },
  {
   "cell_type": "markdown",
   "id": "e438cc9b-9d31-4173-a052-ffe214ed1295",
   "metadata": {},
   "source": [
    "${\\displaystyle f(x\\mid \\mu ,\\sigma ^{2})={\\frac {1}{\\sqrt {2\\pi \\sigma ^{2}}}}e^{-{\\frac {(x-\\mu )^{2}}{2\\sigma ^{2}}}}}$\n",
    "\n",
    "* $\\mu$  ortalama ya da dağılımın beklenen değeri\n",
    "\n",
    "* ${\\displaystyle \\sigma }$  standart sapma\n",
    "\n",
    "* ${\\displaystyle \\sigma ^{2}}$ varyans"
   ]
  },
  {
   "cell_type": "code",
   "execution_count": 35,
   "id": "aef41de9-62f5-4e09-9c26-ab417c4c7485",
   "metadata": {},
   "outputs": [],
   "source": [
    "from scipy.stats import norm"
   ]
  },
  {
   "cell_type": "code",
   "execution_count": 58,
   "id": "9fe416a3-0aa3-4abc-bc25-5f2c84091be1",
   "metadata": {},
   "outputs": [
    {
     "data": {
      "text/plain": [
       "0.9918024640754038"
      ]
     },
     "execution_count": 58,
     "metadata": {},
     "output_type": "execute_result"
    }
   ],
   "source": [
    "#90k dan fazla satış yapılması ihtimali\n",
    "1-norm.cdf(90,80,5) #cdf:Kümülatif Dağılım Fonksiyonu\n",
    "                    #norm.cdf(istediğimiz değer,ortalama,standart sapma)"
   ]
  },
  {
   "cell_type": "code",
   "execution_count": 60,
   "id": "1c79c3a9-2f71-4af7-b72b-d565908ea734",
   "metadata": {},
   "outputs": [],
   "source": [
    "#68k dan az satış olması ihtimali"
   ]
  },
  {
   "cell_type": "code",
   "execution_count": 56,
   "id": "389d0855-693a-4754-9d33-2c36bb7d48f3",
   "metadata": {},
   "outputs": [
    {
     "data": {
      "text/plain": [
       "0.008197535924596131"
      ]
     },
     "execution_count": 56,
     "metadata": {},
     "output_type": "execute_result"
    }
   ],
   "source": [
    "norm.cdf(68,80,5)"
   ]
  },
  {
   "cell_type": "code",
   "execution_count": null,
   "id": "8aba5337-021e-4747-a1db-f34e0746220a",
   "metadata": {},
   "outputs": [],
   "source": [
    "#90k ile 68k arasında olması ihtimali"
   ]
  },
  {
   "cell_type": "code",
   "execution_count": 62,
   "id": "570fb5ec-81e7-474d-9dc3-35810512aef1",
   "metadata": {},
   "outputs": [
    {
     "data": {
      "text/plain": [
       "0.014552596023583077"
      ]
     },
     "execution_count": 62,
     "metadata": {},
     "output_type": "execute_result"
    }
   ],
   "source": [
    "1-norm.cdf(90,80,5)-norm.cdf(68,80,5)"
   ]
  },
  {
   "cell_type": "markdown",
   "id": "1aa94688-3c71-4ab0-9cab-f7fea42d075f",
   "metadata": {},
   "source": [
    "## Hipotez Testleri"
   ]
  },
  {
   "cell_type": "markdown",
   "id": "0ec874e1-7b8f-4900-821a-45a485c06c45",
   "metadata": {},
   "source": [
    "#### Hipotez testi, bir örneklemden elde edilen verilerle bir iddianın (hipotezin) doğruluğunu istatistiksel olarak değerlendiren bir yöntemdir."
   ]
  },
  {
   "cell_type": "markdown",
   "id": "3a4c82d5-293e-4b9e-9194-041daef1c509",
   "metadata": {},
   "source": [
    "### Tek Örneklem T Testi"
   ]
  },
  {
   "cell_type": "markdown",
   "id": "1a27e073-788b-47f1-a55a-eedb5757f9a2",
   "metadata": {},
   "source": [
    "#### Popülasyon ortalaması ile varsayımsal bir değer arasında\n",
    "#### istatistiksel olarak anlamlı bir farklılık olup olmadığını test\n",
    "#### etmek için kullanılan parametrik bir testtir."
   ]
  },
  {
   "cell_type": "markdown",
   "id": "e01d7d47-d201-4da7-aeb3-02b60f77db53",
   "metadata": {},
   "source": [
    "### Uygulama:Web Sitesinde Geçirilen Sürenin Testi"
   ]
  },
  {
   "cell_type": "markdown",
   "id": "e4a4877c-014f-43dd-8d1c-addfe82189e7",
   "metadata": {},
   "source": [
    "Örnek ortalamasına ilişkin test yapmak için kullanılır.\n",
    "\n",
    "**Hipotezler:**\n",
    "\n",
    "<d><i>H</i><sub>0</sub>: <i>μ</i> = <i>50</i></d>   \n",
    "<d><i>H</i><sub>1</sub>: <i>μ</i> ≠ <i>50</i></d><br><br>\n",
    "\n",
    "<d><i>H</i><sub>0</sub>: <i>μ</i> <= <i>50</i></d><br>\n",
    "<d><i>H</i><sub>1</sub>: <i>μ</i> > <i>50</i></d><br><br>\n",
    "\n",
    "<d><i>H</i><sub>0</sub>: <i>μ</i> >= <i>50</i></d><br>\n",
    "<d><i>H</i><sub>1</sub>: <i>μ</i> < <i>50</i></d><br><br>\n",
    "\n",
    "\n",
    "\n",
    "\n",
    "<table></table>\n",
    "\n",
    "**Test İstatistiği:**\n",
    "\n",
    "${\\displaystyle t={\\frac {{\\bar {x}}-\\mu _{0}}{\\frac {s}{\\sqrt {n}}}}}$"
   ]
  },
  {
   "cell_type": "code",
   "execution_count": 11,
   "id": "8f76f634-3611-4fed-8a88-1bda8414d212",
   "metadata": {},
   "outputs": [],
   "source": [
    "import numpy as np\n",
    "\n",
    "olcumler = np.array([17, 160, 234, 149, 145, 107, 197, 75, 201, 225, 211, 119, \n",
    "              157, 145, 127, 244, 163, 114, 145,  65, 112, 185, 202, 146,\n",
    "              203, 224, 203, 114, 188, 156, 187, 154, 177, 95, 165, 50, 110, \n",
    "              216, 138, 151, 166, 135, 155, 84, 251, 173, 131, 207, 121, 120])"
   ]
  },
  {
   "cell_type": "code",
   "execution_count": 13,
   "id": "1c0717ef-e7ad-4d11-bd32-2f7c2e41bc3b",
   "metadata": {},
   "outputs": [],
   "source": [
    "import scipy.stats as stats"
   ]
  },
  {
   "cell_type": "code",
   "execution_count": 20,
   "id": "97a162a5-525d-4dde-9fba-06204a9d73b8",
   "metadata": {},
   "outputs": [
    {
     "data": {
      "text/plain": [
       "DescribeResult(nobs=50, minmax=(17, 251), mean=154.38, variance=2578.0363265306123, skewness=-0.32398897278694483, kurtosis=-0.05849823498415985)"
      ]
     },
     "execution_count": 20,
     "metadata": {},
     "output_type": "execute_result"
    }
   ],
   "source": [
    "stats.describe(olcumler)#Ortalamanın Gerçekten 154 mü yoksa şans eseri mi 154 geldiğini\n",
    "                        #hipotez kurarak doğrulamaya çalışacağız"
   ]
  },
  {
   "cell_type": "code",
   "execution_count": null,
   "id": "2bb5464c-060c-4487-b8be-e19666100591",
   "metadata": {},
   "outputs": [],
   "source": [
    "#Varsayımlar\n",
    "#Normallik Varsayımı"
   ]
  },
  {
   "cell_type": "code",
   "execution_count": 23,
   "id": "fe412aaf-c8ad-4d19-bce6-8c70d5b453dc",
   "metadata": {},
   "outputs": [
    {
     "data": {
      "image/png": "[encoded data removed]",
      "text/plain": [
       "<Figure size 640x480 with 1 Axes>"
      ]
     },
     "metadata": {},
     "output_type": "display_data"
    }
   ],
   "source": [
    "#qqplot\n",
    "import pylab\n",
    "stats.probplot(olcumler, dist=\"norm\", plot=pylab)\n",
    "pylab.show()"
   ]
  },
  {
   "cell_type": "markdown",
   "id": "61aa1669-483d-43c2-88d5-3a5f7ef9f564",
   "metadata": {},
   "source": [
    "## Shapiro-Wilks Testi"
   ]
  },
  {
   "cell_type": "markdown",
   "id": "ca0581e5-a231-4aa5-be79-1458c9f0e5d2",
   "metadata": {},
   "source": [
    "H0: Örnek dağılımı ile teorik normal dağılım arasında ist. ol. anl. bir fark. yoktur\n",
    "\n",
    "H1: ... fark vardır"
   ]
  },
  {
   "cell_type": "code",
   "execution_count": 15,
   "id": "fb642355-7e53-42d4-a46a-4476c8240266",
   "metadata": {},
   "outputs": [],
   "source": [
    "from scipy.stats import shapiro\n",
    "import pandas as pd"
   ]
  },
  {
   "cell_type": "code",
   "execution_count": 39,
   "id": "a79a5309-0bec-4819-b968-921101314c48",
   "metadata": {},
   "outputs": [
    {
     "data": {
      "text/plain": [
       "ShapiroResult(statistic=0.9853103897061022, pvalue=0.7848671719373956)"
      ]
     },
     "execution_count": 39,
     "metadata": {},
     "output_type": "execute_result"
    }
   ],
   "source": [
    "shapiro(olcumler)#p-value değeri 0.5 den küçük olmadığı için\n",
    "                 #H0 reddedilemez\n",
    "                 #Yani Normal Dağılım varsayımı sağlanıyor"
   ]
  },
  {
   "cell_type": "code",
   "execution_count": 41,
   "id": "0f0565bd-f23b-4fdb-b365-917682939d09",
   "metadata": {},
   "outputs": [],
   "source": [
    "#Hipotez Testinin Uygulanması"
   ]
  },
  {
   "cell_type": "markdown",
   "id": "ba5448d3-5a74-4575-88b3-e69fb466b8d6",
   "metadata": {},
   "source": [
    "#### H0: Web sitemizde geçirilen ortalama süre 170'tir\n",
    "#### H1: .. değildir"
   ]
  },
  {
   "cell_type": "code",
   "execution_count": 14,
   "id": "0c45a5bb-cae2-4e06-8cea-2645af6eeb9e",
   "metadata": {},
   "outputs": [
    {
     "data": {
      "text/plain": [
       "TtestResult(statistic=-2.1753117985877966, pvalue=0.034460415195071446, df=49)"
      ]
     },
     "execution_count": 14,
     "metadata": {},
     "output_type": "execute_result"
    }
   ],
   "source": [
    "stats.ttest_1samp(olcumler,popmean=170)#p-value değerimiz 0.05den küçük olduğu için\n",
    "                                       #H0 hipotezi reddedilir\n",
    "                                       #Yani geçirilen ortalama süre 170 değildir"
   ]
  },
  {
   "cell_type": "markdown",
   "id": "853391bd-2d66-43bb-8f32-f168a7e9222e",
   "metadata": {},
   "source": [
    "## Nonparametrik Tek Örneklem Testi"
   ]
  },
  {
   "cell_type": "markdown",
   "id": "54e3fc15-b1bd-4744-89dd-91af09f19f44",
   "metadata": {},
   "source": [
    "#### Nonparametrik tek örneklem testi, bir örneklemin belirli bir medyandan veya dağılımdan anlamlı şekilde farklı olup olmadığını test etmek için kullanılır.\n",
    "#### Parametrik testlerin aksine, verilerin normal dağılıma uymasını gerektirmez ve özellikle küçük örneklemler veya dağılımı bilinmeyen veriler için tercih edilir."
   ]
  },
  {
   "cell_type": "code",
   "execution_count": 10,
   "id": "ada65c71-3485-4105-b720-6bb3ed3f7a9d",
   "metadata": {},
   "outputs": [],
   "source": [
    "from statsmodels.stats.descriptivestats import sign_test"
   ]
  },
  {
   "cell_type": "code",
   "execution_count": 12,
   "id": "93ff8b89-7cda-4b54-a0ef-e6d0826c1694",
   "metadata": {},
   "outputs": [
    {
     "data": {
      "text/plain": [
       "(-7.0, 0.06490864707227217)"
      ]
     },
     "execution_count": 12,
     "metadata": {},
     "output_type": "execute_result"
    }
   ],
   "source": [
    "sign_test(olcumler,170)#Sonuç doğru çıkmadı çünkü ölçümler normal dağılıyordu"
   ]
  },
  {
   "cell_type": "markdown",
   "id": "53e48797-02da-46bf-9d13-b1775cfddfe2",
   "metadata": {},
   "source": [
    "## Tek Örneklem Oran Testi"
   ]
  },
  {
   "cell_type": "markdown",
   "id": "97089ce9-17e4-4c49-8ec8-ae7464f0f9e7",
   "metadata": {},
   "source": [
    "### Uygulama:Dönüşüm Oran Testi"
   ]
  },
  {
   "cell_type": "code",
   "execution_count": null,
   "id": "3b2ad458-7927-4cb6-924a-e4527e5467fb",
   "metadata": {},
   "outputs": [],
   "source": []
  },
  {
   "cell_type": "markdown",
   "id": "cf47464a-c9ee-43b0-9235-8b4f7e3a1ced",
   "metadata": {},
   "source": [
    "#### Problem:\n",
    "#### Bir yazılım ile bir mecrada reklam verilmiş ve bu reklama ilişkin yazılım tarafından 0.125 dönüşüm oranı elde\n",
    "#### edildiği ifade edilmiş. Fakat bu durum kontrol edilmek isteniyor. Çünkü bu yüksek bir oran ve gelirler\n",
    "#### incelendiğinde örtüşmüyor.\n",
    "#### Detaylar:\n",
    "#### 500 kişi dış mecrada reklamlara tıklamış, 40 tanesi sitemize gelip alişveriş yapmış.\n",
    "#### Örnek üzerinden elde edilen dönüşüm oranı: 40/500 0108"
   ]
  },
  {
   "cell_type": "code",
   "execution_count": null,
   "id": "5c8dabb6-ec63-44af-873c-ffb33cb5d566",
   "metadata": {},
   "outputs": [],
   "source": [
    "H0=0.125\n",
    "H1!=125"
   ]
  },
  {
   "cell_type": "code",
   "execution_count": 19,
   "id": "ccdb96c3-d4d3-4fd8-9c65-c4ea3da9f7e5",
   "metadata": {},
   "outputs": [],
   "source": [
    "from statsmodels.stats.proportion import proportions_ztest"
   ]
  },
  {
   "cell_type": "code",
   "execution_count": 23,
   "id": "ca8ae054-cb48-457a-82d0-a0691301e8c7",
   "metadata": {},
   "outputs": [],
   "source": [
    "count=40\n",
    "nobs=500\n",
    "value=0.125"
   ]
  },
  {
   "cell_type": "code",
   "execution_count": 27,
   "id": "5c898d46-87a5-4e2c-a9b4-2c99e0f8bfe4",
   "metadata": {},
   "outputs": [
    {
     "data": {
      "text/plain": [
       "(-3.7090151628513017, 0.0002080669689845979)"
      ]
     },
     "execution_count": 27,
     "metadata": {},
     "output_type": "execute_result"
    }
   ],
   "source": [
    "proportions_ztest(count,nobs,value)#H0 hipotezi reddedilmiştir"
   ]
  },
  {
   "cell_type": "markdown",
   "id": "c619767f-e0ab-458a-b7b5-a8c5d7d9f14b",
   "metadata": {},
   "source": [
    "## Bağımsız İki Örneklem T Testi (AB Testi)"
   ]
  },
  {
   "cell_type": "markdown",
   "id": "f0fe13f5-4ef9-490b-922e-9210a821bbf6",
   "metadata": {},
   "source": [
    "#### İki grup ortalaması arasında karşılaştırma yapılmak istenildiğinde kullanılır."
   ]
  },
  {
   "cell_type": "markdown",
   "id": "93dcd8dc-f868-41a1-a1b8-769a299d8682",
   "metadata": {},
   "source": [
    "### Uygulama:ML Modelinin Başarı Testi (AB Testi)"
   ]
  },
  {
   "cell_type": "markdown",
   "id": "b62453a6-14b4-4d0c-96a6-90878e23b577",
   "metadata": {},
   "source": [
    "#### • Problem:\n",
    "#### Bir ML projesine yatırım yapılmış. Ürettiği tahminler neticesinde oluşan gelir ile\n",
    "#### eski sistemin ürettiği gelirler karşılaştırılıp anlamlı farklılık olup olmadığı test edilmek\n",
    "#### isteniyor.\n",
    "#### Detaylar:\n",
    "#### Model geliştirilmiş ve web sitesine entegre edilmiş.\n",
    "#### Site kullanıcıları belirli bir kurala göre ikiye bölünmüş olsun.\n",
    "#### A grubu eski B grubu yeni sistem.\n",
    "#### Gelir anlamında anlamlı bir iş yapılıp yapılmadığı test edilmek isteniyor."
   ]
  },
  {
   "cell_type": "code",
   "execution_count": null,
   "id": "a683999a-b580-43b7-b8b5-e14c89b4e94e",
   "metadata": {},
   "outputs": [],
   "source": [
    "#VERI TIPI I"
   ]
  },
  {
   "cell_type": "code",
   "execution_count": 17,
   "id": "0ed609dc-5af5-45ca-8022-22f5cbe74648",
   "metadata": {},
   "outputs": [
    {
     "data": {
      "text/html": [
       "<div>\n",
       "<style scoped>\n",
       "    .dataframe tbody tr th:only-of-type {\n",
       "        vertical-align: middle;\n",
       "    }\n",
       "\n",
       "    .dataframe tbody tr th {\n",
       "        vertical-align: top;\n",
       "    }\n",
       "\n",
       "    .dataframe thead th {\n",
       "        text-align: right;\n",
       "    }\n",
       "</style>\n",
       "<table border=\"1\" class=\"dataframe\">\n",
       "  <thead>\n",
       "    <tr style=\"text-align: right;\">\n",
       "      <th></th>\n",
       "      <th>A</th>\n",
       "      <th>B</th>\n",
       "    </tr>\n",
       "  </thead>\n",
       "  <tbody>\n",
       "    <tr>\n",
       "      <th>0</th>\n",
       "      <td>30</td>\n",
       "      <td>37</td>\n",
       "    </tr>\n",
       "    <tr>\n",
       "      <th>1</th>\n",
       "      <td>27</td>\n",
       "      <td>39</td>\n",
       "    </tr>\n",
       "    <tr>\n",
       "      <th>2</th>\n",
       "      <td>21</td>\n",
       "      <td>31</td>\n",
       "    </tr>\n",
       "    <tr>\n",
       "      <th>3</th>\n",
       "      <td>27</td>\n",
       "      <td>31</td>\n",
       "    </tr>\n",
       "    <tr>\n",
       "      <th>4</th>\n",
       "      <td>29</td>\n",
       "      <td>34</td>\n",
       "    </tr>\n",
       "  </tbody>\n",
       "</table>\n",
       "</div>"
      ],
      "text/plain": [
       "    A   B\n",
       "0  30  37\n",
       "1  27  39\n",
       "2  21  31\n",
       "3  27  31\n",
       "4  29  34"
      ]
     },
     "execution_count": 17,
     "metadata": {},
     "output_type": "execute_result"
    }
   ],
   "source": [
    "A = pd.DataFrame([30,27,21,27,29,30,20,20,27,32,35,22,24,23,25,27,23,27,23,\n",
    "        25,21,18,24,26,33,26,27,28,19,25])\n",
    "\n",
    "B = pd.DataFrame([37,39,31,31,34,38,30,36,29,28,38,28,37,37,30,32,31,31,27,\n",
    "        32,33,33,33,31,32,33,26,32,33,29])\n",
    "\n",
    "\n",
    "A_B = pd.concat([A, B], axis = 1)\n",
    "A_B.columns = [\"A\",\"B\"]\n",
    "\n",
    "A_B.head()"
   ]
  },
  {
   "cell_type": "code",
   "execution_count": 20,
   "id": "5f935965-2b06-4dfb-a731-7b1bdfd0eb2a",
   "metadata": {},
   "outputs": [],
   "source": [
    "#VERI TIPI II:Fonksiyon İçin Gereken "
   ]
  },
  {
   "cell_type": "code",
   "execution_count": 23,
   "id": "8294052e-27c7-4fe1-b58d-41260095e2ab",
   "metadata": {},
   "outputs": [
    {
     "name": "stdout",
     "output_type": "stream",
     "text": [
      "   gelir GRUP\n",
      "0     30    A\n",
      "1     27    A\n",
      "2     21    A\n",
      "3     27    A\n",
      "4     29    A\n",
      "    gelir GRUP\n",
      "25     33    B\n",
      "26     26    B\n",
      "27     32    B\n",
      "28     33    B\n",
      "29     29    B\n"
     ]
    },
    {
     "name": "stderr",
     "output_type": "stream",
     "text": [
      "C:\\Users\\pc\\AppData\\Local\\Temp\\ipykernel_9488\\1949935531.py:10: FutureWarning: Setting an item of incompatible dtype is deprecated and will raise in a future error of pandas. Value 'A' has dtype incompatible with int32, please explicitly cast to a compatible dtype first.\n",
      "  GRUP_A[:] = \"A\"\n",
      "C:\\Users\\pc\\AppData\\Local\\Temp\\ipykernel_9488\\1949935531.py:16: FutureWarning: Setting an item of incompatible dtype is deprecated and will raise in a future error of pandas. Value 'B' has dtype incompatible with int32, please explicitly cast to a compatible dtype first.\n",
      "  GRUP_B[:] = \"B\"\n"
     ]
    }
   ],
   "source": [
    "A = pd.DataFrame([30,27,21,27,29,30,20,20,27,32,35,22,24,23,25,27,23,27,23,\n",
    "        25,21,18,24,26,33,26,27,28,19,25])\n",
    "\n",
    "B = pd.DataFrame([37,39,31,31,34,38,30,36,29,28,38,28,37,37,30,32,31,31,27,\n",
    "        32,33,33,33,31,32,33,26,32,33,29])\n",
    "\n",
    "#A ve A'nın grubu\n",
    "GRUP_A = np.arange(len(A))\n",
    "GRUP_A = pd.DataFrame(GRUP_A)\n",
    "GRUP_A[:] = \"A\"\n",
    "A = pd.concat([A, GRUP_A], axis = 1)\n",
    "\n",
    "#B ve B'nin Grubu\n",
    "GRUP_B = np.arange(len(B))\n",
    "GRUP_B = pd.DataFrame(GRUP_B)\n",
    "GRUP_B[:] = \"B\"\n",
    "B = pd.concat([B, GRUP_B], axis = 1)\n",
    "\n",
    "#Tum veri\n",
    "AB = pd.concat([A,B])\n",
    "AB.columns = [\"gelir\",\"GRUP\"]\n",
    "print(AB.head())\n",
    "print(AB.tail())"
   ]
  },
  {
   "cell_type": "code",
   "execution_count": 26,
   "id": "f47ad031-c9b2-4316-876b-0201b7ca62e5",
   "metadata": {},
   "outputs": [
    {
     "data": {
      "image/png": "[encoded data removed]",
      "text/plain": [
       "<Figure size 640x480 with 1 Axes>"
      ]
     },
     "metadata": {},
     "output_type": "display_data"
    }
   ],
   "source": [
    "import seaborn as sns\n",
    "sns.boxplot(x = \"GRUP\", y = \"gelir\", data = AB);"
   ]
  },
  {
   "cell_type": "markdown",
   "id": "b4e3faac-3c5a-4ffd-99e0-d5bfecff1ac2",
   "metadata": {},
   "source": [
    "## Varsayım Kontrolü"
   ]
  },
  {
   "cell_type": "code",
   "execution_count": 30,
   "id": "f72e8e54-5637-4cb5-b89f-4212a66c56db",
   "metadata": {},
   "outputs": [
    {
     "data": {
      "text/html": [
       "<div>\n",
       "<style scoped>\n",
       "    .dataframe tbody tr th:only-of-type {\n",
       "        vertical-align: middle;\n",
       "    }\n",
       "\n",
       "    .dataframe tbody tr th {\n",
       "        vertical-align: top;\n",
       "    }\n",
       "\n",
       "    .dataframe thead th {\n",
       "        text-align: right;\n",
       "    }\n",
       "</style>\n",
       "<table border=\"1\" class=\"dataframe\">\n",
       "  <thead>\n",
       "    <tr style=\"text-align: right;\">\n",
       "      <th></th>\n",
       "      <th>A</th>\n",
       "      <th>B</th>\n",
       "    </tr>\n",
       "  </thead>\n",
       "  <tbody>\n",
       "    <tr>\n",
       "      <th>0</th>\n",
       "      <td>30</td>\n",
       "      <td>37</td>\n",
       "    </tr>\n",
       "    <tr>\n",
       "      <th>1</th>\n",
       "      <td>27</td>\n",
       "      <td>39</td>\n",
       "    </tr>\n",
       "    <tr>\n",
       "      <th>2</th>\n",
       "      <td>21</td>\n",
       "      <td>31</td>\n",
       "    </tr>\n",
       "    <tr>\n",
       "      <th>3</th>\n",
       "      <td>27</td>\n",
       "      <td>31</td>\n",
       "    </tr>\n",
       "    <tr>\n",
       "      <th>4</th>\n",
       "      <td>29</td>\n",
       "      <td>34</td>\n",
       "    </tr>\n",
       "  </tbody>\n",
       "</table>\n",
       "</div>"
      ],
      "text/plain": [
       "    A   B\n",
       "0  30  37\n",
       "1  27  39\n",
       "2  21  31\n",
       "3  27  31\n",
       "4  29  34"
      ]
     },
     "execution_count": 30,
     "metadata": {},
     "output_type": "execute_result"
    }
   ],
   "source": [
    "A_B.head()"
   ]
  },
  {
   "cell_type": "code",
   "execution_count": 32,
   "id": "e59fac71-963d-4fe7-a4ea-08cd9b5e9e80",
   "metadata": {},
   "outputs": [
    {
     "data": {
      "text/html": [
       "<div>\n",
       "<style scoped>\n",
       "    .dataframe tbody tr th:only-of-type {\n",
       "        vertical-align: middle;\n",
       "    }\n",
       "\n",
       "    .dataframe tbody tr th {\n",
       "        vertical-align: top;\n",
       "    }\n",
       "\n",
       "    .dataframe thead th {\n",
       "        text-align: right;\n",
       "    }\n",
       "</style>\n",
       "<table border=\"1\" class=\"dataframe\">\n",
       "  <thead>\n",
       "    <tr style=\"text-align: right;\">\n",
       "      <th></th>\n",
       "      <th>gelir</th>\n",
       "      <th>GRUP</th>\n",
       "    </tr>\n",
       "  </thead>\n",
       "  <tbody>\n",
       "    <tr>\n",
       "      <th>0</th>\n",
       "      <td>30</td>\n",
       "      <td>A</td>\n",
       "    </tr>\n",
       "    <tr>\n",
       "      <th>1</th>\n",
       "      <td>27</td>\n",
       "      <td>A</td>\n",
       "    </tr>\n",
       "    <tr>\n",
       "      <th>2</th>\n",
       "      <td>21</td>\n",
       "      <td>A</td>\n",
       "    </tr>\n",
       "    <tr>\n",
       "      <th>3</th>\n",
       "      <td>27</td>\n",
       "      <td>A</td>\n",
       "    </tr>\n",
       "    <tr>\n",
       "      <th>4</th>\n",
       "      <td>29</td>\n",
       "      <td>A</td>\n",
       "    </tr>\n",
       "  </tbody>\n",
       "</table>\n",
       "</div>"
      ],
      "text/plain": [
       "   gelir GRUP\n",
       "0     30    A\n",
       "1     27    A\n",
       "2     21    A\n",
       "3     27    A\n",
       "4     29    A"
      ]
     },
     "execution_count": 32,
     "metadata": {},
     "output_type": "execute_result"
    }
   ],
   "source": [
    "AB.head()"
   ]
  },
  {
   "cell_type": "code",
   "execution_count": 34,
   "id": "e47d75f8-c08f-49f6-a16d-816cb4dc4dd6",
   "metadata": {},
   "outputs": [],
   "source": [
    "#Normallik varsayım testi"
   ]
  },
  {
   "cell_type": "code",
   "execution_count": 38,
   "id": "f29a68fd-1f17-4258-af20-de1b12103cd0",
   "metadata": {},
   "outputs": [
    {
     "data": {
      "text/plain": [
       "ShapiroResult(statistic=0.97892437099949, pvalue=0.7962848069993307)"
      ]
     },
     "execution_count": 38,
     "metadata": {},
     "output_type": "execute_result"
    }
   ],
   "source": [
    "shapiro(A_B['A'])#p-value değeri 0.05den yüksek olduğu için buna normal\n",
    "                 #dağılımlı diyebiliriz"
   ]
  },
  {
   "cell_type": "code",
   "execution_count": 40,
   "id": "33941b4a-5d63-47eb-b10d-753f3a4d2b6a",
   "metadata": {},
   "outputs": [
    {
     "data": {
      "text/plain": [
       "ShapiroResult(statistic=0.9561261367393356, pvalue=0.2458439374473953)"
      ]
     },
     "execution_count": 40,
     "metadata": {},
     "output_type": "execute_result"
    }
   ],
   "source": [
    "shapiro(A_B['B'])#p-value değeri 0.05den yüksek olduğu için buna normal\n",
    "                 #dağılımlı diyebiliriz"
   ]
  },
  {
   "cell_type": "code",
   "execution_count": 42,
   "id": "64e5dd1b-9b71-4bb0-aef6-fa6d6a710627",
   "metadata": {},
   "outputs": [],
   "source": [
    "#Varyans homojenliği varsayımı"
   ]
  },
  {
   "cell_type": "code",
   "execution_count": 46,
   "id": "39ed5c94-4eaf-496e-8fde-6aacdadf3b27",
   "metadata": {},
   "outputs": [
    {
     "data": {
      "text/plain": [
       "LeveneResult(statistic=1.1101802757158004, pvalue=0.2964124900636569)"
      ]
     },
     "execution_count": 46,
     "metadata": {},
     "output_type": "execute_result"
    }
   ],
   "source": [
    "stats.levene(A_B[\"A\"],A_B[\"B\"])#Varyanslar homojendir diyebiliriz"
   ]
  },
  {
   "cell_type": "markdown",
   "id": "fb1aa5d6-de6c-47b0-8fc2-db80b05bda43",
   "metadata": {},
   "source": [
    "## Hipotez Testi"
   ]
  },
  {
   "cell_type": "code",
   "execution_count": null,
   "id": "740e5ee5-4295-49db-96ac-ef6ba5fb98ba",
   "metadata": {},
   "outputs": [],
   "source": [
    "H0:Farklılık Yoktur\n",
    "H1:Farklılık Vardır"
   ]
  },
  {
   "cell_type": "code",
   "execution_count": 53,
   "id": "46beaa74-78df-4d7f-80ea-0e03ac53e53d",
   "metadata": {},
   "outputs": [
    {
     "data": {
      "text/plain": [
       "TtestResult(statistic=-7.028690967745927, pvalue=2.6233215605475075e-09, df=58.0)"
      ]
     },
     "execution_count": 53,
     "metadata": {},
     "output_type": "execute_result"
    }
   ],
   "source": [
    "stats.ttest_ind(A_B[\"A\"], A_B[\"B\"], equal_var = True)#p-value değeri 0.05den\n",
    "                                                     #küçük olduğu için \n",
    "                                                     #H0 hipotezi reddedilir\n",
    "                                                     #anlamlı bir farklılık\n",
    "                                                     #vardır diyebiliriz"
   ]
  },
  {
   "cell_type": "markdown",
   "id": "b0e85b77-d6be-4f01-b35d-135cf355f220",
   "metadata": {},
   "source": [
    "## Nonparametrik Bağımsız İki Örneklem Testi"
   ]
  },
  {
   "cell_type": "markdown",
   "id": "f8c25ce6-0b96-43fc-82d9-c36116fcb862",
   "metadata": {},
   "source": [
    "#### Normallik ve Varyans homojenliği sağlanmadığı durumlarda kullanılır"
   ]
  },
  {
   "cell_type": "code",
   "execution_count": 59,
   "id": "8073c79f-529a-4e0a-bbe4-6372f14cefd2",
   "metadata": {},
   "outputs": [
    {
     "data": {
      "text/plain": [
       "MannwhitneyuResult(statistic=89.5, pvalue=9.557950378612535e-08)"
      ]
     },
     "execution_count": 59,
     "metadata": {},
     "output_type": "execute_result"
    }
   ],
   "source": [
    "stats.mannwhitneyu(A_B[\"A\"],A_B[\"B\"])"
   ]
  },
  {
   "cell_type": "markdown",
   "id": "9bdc39be-6421-4333-8363-365f72c2af14",
   "metadata": {},
   "source": [
    "## Bağımlı İki Örneklem T Testi"
   ]
  },
  {
   "cell_type": "code",
   "execution_count": null,
   "id": "61ed0b0c-c471-43cf-909a-33780e8f8b65",
   "metadata": {},
   "outputs": [],
   "source": [
    "H0=Değişim Yoktur\n",
    "H1=Değişim Vardır"
   ]
  },
  {
   "cell_type": "markdown",
   "id": "c1d992c9-40d7-441f-977b-082ea1cc329f",
   "metadata": {},
   "source": [
    "### Uygulama:Şirket İçi Eğitim Performansı Değerlendirmesi"
   ]
  },
  {
   "cell_type": "markdown",
   "id": "9fcbad4c-c6bd-41a7-83f2-316b934b7244",
   "metadata": {},
   "source": [
    "#### Problem:\n",
    "#### Belirli uğraşlar sonucunda alınan bir eğitimin katma değer sağlayıp sağlamadığı\n",
    "#### ölçülmek isteniyor.\n",
    "#### Detaylar:\n",
    "#### Bir departman bir konuda eğitim talep ediyor\n",
    "#### Gerekli/gereksiz değerlendirmeleri neticesinde eğitim alınıyor\n",
    "#### Eğitimden önce ve sonra olacak şekilde gerekli ölçümler yapılıyor\n",
    "#### Eğitim sonrasında eğitimin sağladığı katma değer test edilmek isteniyor"
   ]
  },
  {
   "cell_type": "code",
   "execution_count": 91,
   "id": "143adec6-9c92-4feb-915d-23464ff0378e",
   "metadata": {},
   "outputs": [],
   "source": [
    "oncesi = pd.DataFrame([123,119,119,116,123,123,121,120,117,118,121,121,123,119,\n",
    "            121,118,124,121,125,115,115,119,118,121,117,117,120,120,\n",
    "            121,117,118,117,123,118,124,121,115,118,125,115])\n",
    "\n",
    "sonrasi = pd.DataFrame([118,127,122,132,129,123,129,132,128,130,128,138,140,130,\n",
    "             134,134,124,140,134,129,129,138,134,124,122,126,133,127,\n",
    "             130,130,130,132,117,130,125,129,133,120,127,123])"
   ]
  },
  {
   "cell_type": "code",
   "execution_count": 93,
   "id": "ca19cf75-790a-41b9-9ccc-562fb7aff547",
   "metadata": {},
   "outputs": [
    {
     "data": {
      "text/html": [
       "<div>\n",
       "<style scoped>\n",
       "    .dataframe tbody tr th:only-of-type {\n",
       "        vertical-align: middle;\n",
       "    }\n",
       "\n",
       "    .dataframe tbody tr th {\n",
       "        vertical-align: top;\n",
       "    }\n",
       "\n",
       "    .dataframe thead th {\n",
       "        text-align: right;\n",
       "    }\n",
       "</style>\n",
       "<table border=\"1\" class=\"dataframe\">\n",
       "  <thead>\n",
       "    <tr style=\"text-align: right;\">\n",
       "      <th></th>\n",
       "      <th>0</th>\n",
       "    </tr>\n",
       "  </thead>\n",
       "  <tbody>\n",
       "    <tr>\n",
       "      <th>0</th>\n",
       "      <td>123</td>\n",
       "    </tr>\n",
       "    <tr>\n",
       "      <th>1</th>\n",
       "      <td>119</td>\n",
       "    </tr>\n",
       "    <tr>\n",
       "      <th>2</th>\n",
       "      <td>119</td>\n",
       "    </tr>\n",
       "    <tr>\n",
       "      <th>3</th>\n",
       "      <td>116</td>\n",
       "    </tr>\n",
       "    <tr>\n",
       "      <th>4</th>\n",
       "      <td>123</td>\n",
       "    </tr>\n",
       "  </tbody>\n",
       "</table>\n",
       "</div>"
      ],
      "text/plain": [
       "     0\n",
       "0  123\n",
       "1  119\n",
       "2  119\n",
       "3  116\n",
       "4  123"
      ]
     },
     "execution_count": 93,
     "metadata": {},
     "output_type": "execute_result"
    }
   ],
   "source": [
    "oncesi.head()"
   ]
  },
  {
   "cell_type": "code",
   "execution_count": 96,
   "id": "c1bff671-4255-4f95-8269-e284ed9e216b",
   "metadata": {},
   "outputs": [
    {
     "data": {
      "text/plain": [
       "array([ 0,  1,  2,  3,  4,  5,  6,  7,  8,  9, 10, 11, 12, 13, 14, 15, 16,\n",
       "       17, 18, 19, 20, 21, 22, 23, 24, 25, 26, 27, 28, 29, 30, 31, 32, 33,\n",
       "       34, 35, 36, 37, 38, 39])"
      ]
     },
     "execution_count": 96,
     "metadata": {},
     "output_type": "execute_result"
    }
   ],
   "source": [
    " np.arange(len(oncesi))"
   ]
  },
  {
   "cell_type": "code",
   "execution_count": 99,
   "id": "cd5cc1a1-a134-4caa-a248-7efc81373214",
   "metadata": {},
   "outputs": [],
   "source": [
    "#1.Tip Veri:İki Değeri Farklı Sütunlarla Birleştirme(Varsayım Kontrolleri İçin)"
   ]
  },
  {
   "cell_type": "code",
   "execution_count": 117,
   "id": "1537b6c2-9fc6-46a9-b850-443c7d98a6f6",
   "metadata": {},
   "outputs": [
    {
     "data": {
      "text/html": [
       "<div>\n",
       "<style scoped>\n",
       "    .dataframe tbody tr th:only-of-type {\n",
       "        vertical-align: middle;\n",
       "    }\n",
       "\n",
       "    .dataframe tbody tr th {\n",
       "        vertical-align: top;\n",
       "    }\n",
       "\n",
       "    .dataframe thead th {\n",
       "        text-align: right;\n",
       "    }\n",
       "</style>\n",
       "<table border=\"1\" class=\"dataframe\">\n",
       "  <thead>\n",
       "    <tr style=\"text-align: right;\">\n",
       "      <th></th>\n",
       "      <th>ONCESİ</th>\n",
       "      <th>SONRASİ</th>\n",
       "    </tr>\n",
       "  </thead>\n",
       "  <tbody>\n",
       "    <tr>\n",
       "      <th>0</th>\n",
       "      <td>123</td>\n",
       "      <td>118</td>\n",
       "    </tr>\n",
       "    <tr>\n",
       "      <th>1</th>\n",
       "      <td>119</td>\n",
       "      <td>127</td>\n",
       "    </tr>\n",
       "    <tr>\n",
       "      <th>2</th>\n",
       "      <td>119</td>\n",
       "      <td>122</td>\n",
       "    </tr>\n",
       "    <tr>\n",
       "      <th>3</th>\n",
       "      <td>116</td>\n",
       "      <td>132</td>\n",
       "    </tr>\n",
       "    <tr>\n",
       "      <th>4</th>\n",
       "      <td>123</td>\n",
       "      <td>129</td>\n",
       "    </tr>\n",
       "  </tbody>\n",
       "</table>\n",
       "</div>"
      ],
      "text/plain": [
       "   ONCESİ  SONRASİ\n",
       "0     123      118\n",
       "1     119      127\n",
       "2     119      122\n",
       "3     116      132\n",
       "4     123      129"
      ]
     },
     "execution_count": 117,
     "metadata": {},
     "output_type": "execute_result"
    }
   ],
   "source": [
    "Birinci=pd.concat([oncesi,sonrasi],axis=1)\n",
    "Birinci.columns=[\"ONCESİ\",\"SONRASİ\"]\n",
    "Birinci.head()"
   ]
  },
  {
   "cell_type": "code",
   "execution_count": null,
   "id": "bbcd2d01-76bf-4d12-8f4f-b410483ff694",
   "metadata": {},
   "outputs": [],
   "source": [
    "#2.Tip Veri:Öncesi Ve Sonrası Alt Alta Tek Sütunda Birleştirilir"
   ]
  },
  {
   "cell_type": "code",
   "execution_count": 170,
   "id": "3709369e-4f7c-48a9-8c69-0af824e7f893",
   "metadata": {},
   "outputs": [
    {
     "name": "stderr",
     "output_type": "stream",
     "text": [
      "C:\\Users\\pc\\AppData\\Local\\Temp\\ipykernel_9488\\2586429570.py:4: FutureWarning: Setting an item of incompatible dtype is deprecated and will raise in a future error of pandas. Value 'ONCESİ' has dtype incompatible with int32, please explicitly cast to a compatible dtype first.\n",
      "  GRUP_ONCESİ[:]=\"ONCESİ\"\n",
      "C:\\Users\\pc\\AppData\\Local\\Temp\\ipykernel_9488\\2586429570.py:9: FutureWarning: Setting an item of incompatible dtype is deprecated and will raise in a future error of pandas. Value 'SONRASİ' has dtype incompatible with int32, please explicitly cast to a compatible dtype first.\n",
      "  GRUP_SONRASİ[:]=\"SONRASİ\"\n"
     ]
    },
    {
     "data": {
      "text/html": [
       "<div>\n",
       "<style scoped>\n",
       "    .dataframe tbody tr th:only-of-type {\n",
       "        vertical-align: middle;\n",
       "    }\n",
       "\n",
       "    .dataframe tbody tr th {\n",
       "        vertical-align: top;\n",
       "    }\n",
       "\n",
       "    .dataframe thead th {\n",
       "        text-align: right;\n",
       "    }\n",
       "</style>\n",
       "<table border=\"1\" class=\"dataframe\">\n",
       "  <thead>\n",
       "    <tr style=\"text-align: right;\">\n",
       "      <th></th>\n",
       "      <th>0</th>\n",
       "    </tr>\n",
       "  </thead>\n",
       "  <tbody>\n",
       "    <tr>\n",
       "      <th>0</th>\n",
       "      <td>SONRASİ</td>\n",
       "    </tr>\n",
       "    <tr>\n",
       "      <th>1</th>\n",
       "      <td>SONRASİ</td>\n",
       "    </tr>\n",
       "    <tr>\n",
       "      <th>2</th>\n",
       "      <td>SONRASİ</td>\n",
       "    </tr>\n",
       "    <tr>\n",
       "      <th>3</th>\n",
       "      <td>SONRASİ</td>\n",
       "    </tr>\n",
       "    <tr>\n",
       "      <th>4</th>\n",
       "      <td>SONRASİ</td>\n",
       "    </tr>\n",
       "  </tbody>\n",
       "</table>\n",
       "</div>"
      ],
      "text/plain": [
       "         0\n",
       "0  SONRASİ\n",
       "1  SONRASİ\n",
       "2  SONRASİ\n",
       "3  SONRASİ\n",
       "4  SONRASİ"
      ]
     },
     "execution_count": 170,
     "metadata": {},
     "output_type": "execute_result"
    }
   ],
   "source": [
    "#TAGLARIN OLUSTURULMASI\n",
    "GRUP_ONCESİ=np.arange(len(oncesi))\n",
    "GRUP_ONCESİ=pd.DataFrame(GRUP_ONCESİ)\n",
    "GRUP_ONCESİ[:]=\"ONCESİ\"\n",
    "\n",
    "###############################################################################################################\n",
    "GRUP_SONRASİ=np.arange(len(sonrasi))\n",
    "GRUP_SONRASİ=pd.DataFrame(GRUP_SONRASİ)\n",
    "GRUP_SONRASİ[:]=\"SONRASİ\"\n",
    "GRUP_SONRASİ.head()"
   ]
  },
  {
   "cell_type": "code",
   "execution_count": 174,
   "id": "67ec31f1-4cbc-4f94-b1c6-f2de2392a5a7",
   "metadata": {},
   "outputs": [
    {
     "data": {
      "text/html": [
       "<div>\n",
       "<style scoped>\n",
       "    .dataframe tbody tr th:only-of-type {\n",
       "        vertical-align: middle;\n",
       "    }\n",
       "\n",
       "    .dataframe tbody tr th {\n",
       "        vertical-align: top;\n",
       "    }\n",
       "\n",
       "    .dataframe thead th {\n",
       "        text-align: right;\n",
       "    }\n",
       "</style>\n",
       "<table border=\"1\" class=\"dataframe\">\n",
       "  <thead>\n",
       "    <tr style=\"text-align: right;\">\n",
       "      <th></th>\n",
       "      <th>0</th>\n",
       "      <th>0</th>\n",
       "    </tr>\n",
       "  </thead>\n",
       "  <tbody>\n",
       "    <tr>\n",
       "      <th>0</th>\n",
       "      <td>118</td>\n",
       "      <td>SONRASİ</td>\n",
       "    </tr>\n",
       "    <tr>\n",
       "      <th>1</th>\n",
       "      <td>127</td>\n",
       "      <td>SONRASİ</td>\n",
       "    </tr>\n",
       "    <tr>\n",
       "      <th>2</th>\n",
       "      <td>122</td>\n",
       "      <td>SONRASİ</td>\n",
       "    </tr>\n",
       "    <tr>\n",
       "      <th>3</th>\n",
       "      <td>132</td>\n",
       "      <td>SONRASİ</td>\n",
       "    </tr>\n",
       "    <tr>\n",
       "      <th>4</th>\n",
       "      <td>129</td>\n",
       "      <td>SONRASİ</td>\n",
       "    </tr>\n",
       "  </tbody>\n",
       "</table>\n",
       "</div>"
      ],
      "text/plain": [
       "     0        0\n",
       "0  118  SONRASİ\n",
       "1  127  SONRASİ\n",
       "2  122  SONRASİ\n",
       "3  132  SONRASİ\n",
       "4  129  SONRASİ"
      ]
     },
     "execution_count": 174,
     "metadata": {},
     "output_type": "execute_result"
    }
   ],
   "source": [
    "#TAGLARIN VE DEĞERLERİN BİRLEŞTİRİLMESİ\n",
    "A=pd.concat([oncesi,GRUP_ONCESİ],axis=1)\n",
    "\n",
    "##################################################################################################\n",
    "B=pd.concat([sonrasi,GRUP_SONRASİ],axis=1)\n",
    "B.head()"
   ]
  },
  {
   "cell_type": "code",
   "execution_count": 229,
   "id": "9dea85f5-f924-4afb-a11c-e914949a13c2",
   "metadata": {},
   "outputs": [
    {
     "data": {
      "text/html": [
       "<div>\n",
       "<style scoped>\n",
       "    .dataframe tbody tr th:only-of-type {\n",
       "        vertical-align: middle;\n",
       "    }\n",
       "\n",
       "    .dataframe tbody tr th {\n",
       "        vertical-align: top;\n",
       "    }\n",
       "\n",
       "    .dataframe thead th {\n",
       "        text-align: right;\n",
       "    }\n",
       "</style>\n",
       "<table border=\"1\" class=\"dataframe\">\n",
       "  <thead>\n",
       "    <tr style=\"text-align: right;\">\n",
       "      <th></th>\n",
       "      <th>Performans</th>\n",
       "      <th>ONCESİ_SONRASİ</th>\n",
       "    </tr>\n",
       "  </thead>\n",
       "  <tbody>\n",
       "    <tr>\n",
       "      <th>35</th>\n",
       "      <td>129</td>\n",
       "      <td>SONRASİ</td>\n",
       "    </tr>\n",
       "    <tr>\n",
       "      <th>36</th>\n",
       "      <td>133</td>\n",
       "      <td>SONRASİ</td>\n",
       "    </tr>\n",
       "    <tr>\n",
       "      <th>37</th>\n",
       "      <td>120</td>\n",
       "      <td>SONRASİ</td>\n",
       "    </tr>\n",
       "    <tr>\n",
       "      <th>38</th>\n",
       "      <td>127</td>\n",
       "      <td>SONRASİ</td>\n",
       "    </tr>\n",
       "    <tr>\n",
       "      <th>39</th>\n",
       "      <td>123</td>\n",
       "      <td>SONRASİ</td>\n",
       "    </tr>\n",
       "  </tbody>\n",
       "</table>\n",
       "</div>"
      ],
      "text/plain": [
       "    Performans ONCESİ_SONRASİ\n",
       "35         129        SONRASİ\n",
       "36         133        SONRASİ\n",
       "37         120        SONRASİ\n",
       "38         127        SONRASİ\n",
       "39         123        SONRASİ"
      ]
     },
     "execution_count": 229,
     "metadata": {},
     "output_type": "execute_result"
    }
   ],
   "source": [
    "#2.TİP VERİNİN OLUŞTURULMASI VE İSİMLENDİRİLMESİ\n",
    "A_B=pd.concat([A,B])\n",
    "A_B.columns=[\"Performans\",\"ONCESİ_SONRASİ\"]\n",
    "A_B.tail()"
   ]
  },
  {
   "cell_type": "code",
   "execution_count": 199,
   "id": "ef34ad80-7761-4688-a6ff-a318d7326427",
   "metadata": {},
   "outputs": [
    {
     "data": {
      "text/plain": [
       "<Axes: xlabel='ONCESİ_SONRASİ', ylabel='Performans'>"
      ]
     },
     "execution_count": 199,
     "metadata": {},
     "output_type": "execute_result"
    },
    {
     "data": {
      "image/png": "[encoded data removed]",
      "text/plain": [
       "<Figure size 640x480 with 1 Axes>"
      ]
     },
     "metadata": {},
     "output_type": "display_data"
    }
   ],
   "source": [
    "import seaborn as sns\n",
    "sns.boxplot(x=\"ONCESİ_SONRASİ\",y=\"Performans\",data=A_B)"
   ]
  },
  {
   "cell_type": "markdown",
   "id": "378f5b7b-b1da-417e-9609-e285230a4bd1",
   "metadata": {},
   "source": [
    "### Varsayım Kontrolü"
   ]
  },
  {
   "cell_type": "code",
   "execution_count": null,
   "id": "0c2c1b14-059e-4f5b-9b15-b56a9051dfe6",
   "metadata": {},
   "outputs": [],
   "source": [
    "#Normallik Kontrolü"
   ]
  },
  {
   "cell_type": "code",
   "execution_count": 204,
   "id": "ef6758d6-98c1-4e79-aee5-919cee6f37e5",
   "metadata": {},
   "outputs": [],
   "source": [
    "from scipy.stats import shapiro"
   ]
  },
  {
   "cell_type": "code",
   "execution_count": 215,
   "id": "207b71da-f2a4-4a49-a625-089c6f0fc546",
   "metadata": {},
   "outputs": [
    {
     "data": {
      "text/plain": [
       "ShapiroResult(statistic=0.9543651286601341, pvalue=0.10722012473424775)"
      ]
     },
     "execution_count": 215,
     "metadata": {},
     "output_type": "execute_result"
    }
   ],
   "source": [
    "shapiro(Birinci.ONCESİ)#Normal Dağılıyor"
   ]
  },
  {
   "cell_type": "code",
   "execution_count": 219,
   "id": "a4ef7b9a-171a-4266-b5c3-dfe998354f92",
   "metadata": {},
   "outputs": [
    {
     "data": {
      "text/plain": [
       "ShapiroResult(statistic=0.9780089132335147, pvalue=0.6159508885102487)"
      ]
     },
     "execution_count": 219,
     "metadata": {},
     "output_type": "execute_result"
    }
   ],
   "source": [
    "shapiro(Birinci.SONRASİ)#Normal Dağılıyor"
   ]
  },
  {
   "cell_type": "code",
   "execution_count": 223,
   "id": "f961ecf8-40d1-4489-80af-4309a82cdd4b",
   "metadata": {},
   "outputs": [],
   "source": [
    "#Varyans Homojenliği Kontrolü"
   ]
  },
  {
   "cell_type": "code",
   "execution_count": 227,
   "id": "32d5c656-e7f9-4f3b-8b2b-acd2953a4c58",
   "metadata": {},
   "outputs": [
    {
     "data": {
      "text/plain": [
       "LeveneResult(statistic=8.31303288672351, pvalue=0.0050844511807370246)"
      ]
     },
     "execution_count": 227,
     "metadata": {},
     "output_type": "execute_result"
    }
   ],
   "source": [
    "import scipy.stats as stats\n",
    "stats.levene(Birinci.ONCESİ,Birinci.SONRASİ)"
   ]
  },
  {
   "cell_type": "markdown",
   "id": "88783cfc-d025-4dfb-ab15-7e674d274dd8",
   "metadata": {},
   "source": [
    "### Hipotez Testi"
   ]
  },
  {
   "cell_type": "code",
   "execution_count": 248,
   "id": "366ae9a4-22f8-45d4-b0eb-b4e2527c10ef",
   "metadata": {},
   "outputs": [
    {
     "data": {
      "text/plain": [
       "TtestResult(statistic=-9.281533480429937, pvalue=2.0235251764440722e-11, df=39)"
      ]
     },
     "execution_count": 248,
     "metadata": {},
     "output_type": "execute_result"
    }
   ],
   "source": [
    "stats.ttest_rel(Birinci.ONCESİ, Birinci.SONRASİ)#p-value değeri 0.05den küçük olduğu için\n",
    "                                                #H0 hipotezi olan değişim yoktur hipotezi \n",
    "                                                #reddedilmiştir. Eğitim işe yaramıştır"
   ]
  },
  {
   "cell_type": "markdown",
   "id": "1e195d43-3972-407e-94a9-35a92412efed",
   "metadata": {},
   "source": [
    "### Non-Parametrik Bağımlı İki Örneklem Testi"
   ]
  },
  {
   "cell_type": "code",
   "execution_count": 262,
   "id": "6cb81eef-bc91-4c4b-8d7d-def971dbed3b",
   "metadata": {},
   "outputs": [
    {
     "data": {
      "text/plain": [
       "WilcoxonResult(statistic=15.0, pvalue=2.491492033374464e-07)"
      ]
     },
     "execution_count": 262,
     "metadata": {},
     "output_type": "execute_result"
    }
   ],
   "source": [
    "stats.wilcoxon(Birinci.ONCESİ, Birinci.SONRASİ)"
   ]
  },
  {
   "cell_type": "markdown",
   "id": "f8962704-a125-4298-b63f-67ce59260fcc",
   "metadata": {},
   "source": [
    "## İki Örneklem Oran Testi"
   ]
  },
  {
   "cell_type": "markdown",
   "id": "fe80407b-3b05-4e25-b131-69f170990c86",
   "metadata": {},
   "source": [
    "#### Bir Satın Al Butonu Eklenecek Yeşil Renkli Mi Olsun Kırmızı Renkli Mi?\n",
    "#### Kırmızı(1000 Görüntülenme, 300 Tıklanma)        Yeşil(1100 Görüntülenme 250 Tıklama)"
   ]
  },
  {
   "cell_type": "code",
   "execution_count": 272,
   "id": "2ff8c319-c877-4d5f-a323-236506ef5fa8",
   "metadata": {},
   "outputs": [],
   "source": [
    "from statsmodels.stats.proportion import proportions_ztest"
   ]
  },
  {
   "cell_type": "code",
   "execution_count": 274,
   "id": "ad93d4b2-d09c-441b-9b88-5fbace43df01",
   "metadata": {},
   "outputs": [],
   "source": [
    "basari_sayisi=np.array([300,250])\n",
    "gözlem_sayisi=np.array([1000,1100])"
   ]
  },
  {
   "cell_type": "code",
   "execution_count": 276,
   "id": "41dc4769-2cda-49bb-a0dc-c5eb235535cf",
   "metadata": {},
   "outputs": [
    {
     "data": {
      "text/plain": [
       "(3.7857863233209255, 0.0001532232957772221)"
      ]
     },
     "execution_count": 276,
     "metadata": {},
     "output_type": "execute_result"
    }
   ],
   "source": [
    "proportions_ztest(count=basari_sayisi,nobs=gözlem_sayisi)#p-value değeri 0.05den küçük olduğu için\n",
    "                                                         #oranlar eşit değildir\n",
    "                                                         #aralarında anlamlı bir farklılık vardır"
   ]
  },
  {
   "cell_type": "markdown",
   "id": "64b535f9-0c40-4191-883a-473ad3974644",
   "metadata": {},
   "source": [
    "## Varyans Analizi"
   ]
  },
  {
   "cell_type": "markdown",
   "id": "dff13bf1-f66d-46eb-b6ee-e4d919628f17",
   "metadata": {},
   "source": [
    "#### Üç ya da daha fazla grup ortalaması arasında istatistiksel\n",
    "#### olarak anlamlı farklılık olup olmadığı öğrenilmek\n",
    "#### istenildiğinde kullanılır"
   ]
  },
  {
   "cell_type": "markdown",
   "id": "f0eb9f24-b00f-4e48-9cdc-51de4f50bda1",
   "metadata": {},
   "source": [
    "### Hipotezleri\n",
    "#### H0: Grupların ortalamaları arasında fark yoktur.\n",
    "\n",
    "#### H1: En az bir grup diğerlerinden farklıdır."
   ]
  },
  {
   "cell_type": "markdown",
   "id": "c70359a9-6db1-4ef0-b476-82246c05aa0e",
   "metadata": {},
   "source": [
    "### Varsayımları\n",
    "#### • Gözlemlerin birbirinden bağımsız olması (grupların)\n",
    "#### • Normal dağılım\n",
    "#### • Varyans homojenliği"
   ]
  },
  {
   "cell_type": "markdown",
   "id": "257ee9a4-dca4-410b-aa5d-f9eef389f0eb",
   "metadata": {},
   "source": [
    "### Uygulama:Anasayfa İçerik Stratejisi Belirlemek\n",
    "#### • Problem:\n",
    "#### Anasayfalda geçirilen süre artırılmak isteniyor\n",
    "#### Detaylar:\n",
    "#### Bir web sitesi için başarı kriterleri: ortalama ziyaret süresil hemen çıkış oranı vb\n",
    "#### Uzun zaman geçiren kullanıcılarn reklamlara daha fazla tıkladığı ve markaya olan\n",
    "#### bağlılıklarının arttığı biliniyor.\n",
    "#### Buna yönelik olarak benzer haberler farklı resimler ya da farklı formatlarda hazırlanarak\n",
    "#### oluşturulan test gruplarına gösteriliyor.\n",
    "#### • A: Doğal Şekilde, B: Yönlendirici, C: İlgi Çekici"
   ]
  },
  {
   "cell_type": "code",
   "execution_count": null,
   "id": "f93c3840-9afa-4c04-b9e9-3f836b0458d4",
   "metadata": {},
   "outputs": [],
   "source": [
    "H0: M1 = M2 = M3 (grup ortalamalari arasinda ist anl. farklilik yoktur) \n",
    "\n",
    "H1: Fark vardir."
   ]
  },
  {
   "cell_type": "code",
   "execution_count": 309,
   "id": "563183cf-71ce-4ffe-a8eb-41b333247f72",
   "metadata": {},
   "outputs": [
    {
     "data": {
      "text/html": [
       "<div>\n",
       "<style scoped>\n",
       "    .dataframe tbody tr th:only-of-type {\n",
       "        vertical-align: middle;\n",
       "    }\n",
       "\n",
       "    .dataframe tbody tr th {\n",
       "        vertical-align: top;\n",
       "    }\n",
       "\n",
       "    .dataframe thead th {\n",
       "        text-align: right;\n",
       "    }\n",
       "</style>\n",
       "<table border=\"1\" class=\"dataframe\">\n",
       "  <thead>\n",
       "    <tr style=\"text-align: right;\">\n",
       "      <th></th>\n",
       "      <th>GRUP_A</th>\n",
       "      <th>GRUP_B</th>\n",
       "      <th>GRUP_C</th>\n",
       "    </tr>\n",
       "  </thead>\n",
       "  <tbody>\n",
       "    <tr>\n",
       "      <th>0</th>\n",
       "      <td>28</td>\n",
       "      <td>31</td>\n",
       "      <td>40</td>\n",
       "    </tr>\n",
       "    <tr>\n",
       "      <th>1</th>\n",
       "      <td>33</td>\n",
       "      <td>32</td>\n",
       "      <td>33</td>\n",
       "    </tr>\n",
       "    <tr>\n",
       "      <th>2</th>\n",
       "      <td>30</td>\n",
       "      <td>30</td>\n",
       "      <td>38</td>\n",
       "    </tr>\n",
       "    <tr>\n",
       "      <th>3</th>\n",
       "      <td>29</td>\n",
       "      <td>30</td>\n",
       "      <td>41</td>\n",
       "    </tr>\n",
       "    <tr>\n",
       "      <th>4</th>\n",
       "      <td>28</td>\n",
       "      <td>33</td>\n",
       "      <td>42</td>\n",
       "    </tr>\n",
       "  </tbody>\n",
       "</table>\n",
       "</div>"
      ],
      "text/plain": [
       "   GRUP_A  GRUP_B  GRUP_C\n",
       "0      28      31      40\n",
       "1      33      32      33\n",
       "2      30      30      38\n",
       "3      29      30      41\n",
       "4      28      33      42"
      ]
     },
     "execution_count": 309,
     "metadata": {},
     "output_type": "execute_result"
    }
   ],
   "source": [
    "A = pd.DataFrame([28,33,30,29,28,29,27,31,30,32,28,33,25,29,27,31,31,30,31,34,30,32,31,34,28,32,31,28,33,29])\n",
    "\n",
    "B = pd.DataFrame([31,32,30,30,33,32,34,27,36,30,31,30,38,29,30,34,34,31,35,35,33,30,28,29,26,37,31,28,34,33])\n",
    "\n",
    "C = pd.DataFrame([40,33,38,41,42,43,38,35,39,39,36,34,35,40,38,36,39,36,33,35,38,35,40,40,39,38,38,43,40,42])\n",
    "\n",
    "dfs = [A, B, C]\n",
    "ABC=pd.concat(dfs,axis=1)\n",
    "ABC.columns=[\"GRUP_A\",\"GRUP_B\",\"GRUP_C\"]\n",
    "ABC.head()"
   ]
  },
  {
   "cell_type": "markdown",
   "id": "4df1cbb9-afaa-4a8d-a152-aae67034e7f3",
   "metadata": {},
   "source": [
    "### Varsayım Kontrolü"
   ]
  },
  {
   "cell_type": "code",
   "execution_count": 324,
   "id": "dac24969-4d19-450e-9185-e8129c3bb943",
   "metadata": {},
   "outputs": [
    {
     "data": {
      "text/plain": [
       "ShapiroResult(statistic=0.9697430293916081, pvalue=0.5321675250468361)"
      ]
     },
     "execution_count": 324,
     "metadata": {},
     "output_type": "execute_result"
    }
   ],
   "source": [
    "shapiro(ABC['GRUP_A'])"
   ]
  },
  {
   "cell_type": "code",
   "execution_count": 316,
   "id": "77284076-8377-4501-94e2-ded9a3f4f27b",
   "metadata": {},
   "outputs": [
    {
     "data": {
      "text/plain": [
       "ShapiroResult(statistic=0.9789855288537495, pvalue=0.7979814669020528)"
      ]
     },
     "execution_count": 316,
     "metadata": {},
     "output_type": "execute_result"
    }
   ],
   "source": [
    "shapiro(ABC[\"GRUP_B\"])"
   ]
  },
  {
   "cell_type": "code",
   "execution_count": 320,
   "id": "5e097ee2-b7d5-4f36-bb92-ed7efb48e993",
   "metadata": {},
   "outputs": [
    {
     "data": {
      "text/plain": [
       "ShapiroResult(statistic=0.9579198548620552, pvalue=0.27381521754487215)"
      ]
     },
     "execution_count": 320,
     "metadata": {},
     "output_type": "execute_result"
    }
   ],
   "source": [
    "shapiro(ABC[\"GRUP_C\"])#0.05den büyük olduğu için H0 varsayımı reddedilemez bu yüzden\n",
    "                      #Normal Dağılmışlardır Diyebiliriz"
   ]
  },
  {
   "cell_type": "code",
   "execution_count": 328,
   "id": "2dfa4588-b432-4c5b-ad34-9419cd7e1c4b",
   "metadata": {},
   "outputs": [
    {
     "data": {
      "text/plain": [
       "LeveneResult(statistic=1.0267403645055275, pvalue=0.3624711011741707)"
      ]
     },
     "execution_count": 328,
     "metadata": {},
     "output_type": "execute_result"
    }
   ],
   "source": [
    "stats.levene(ABC['GRUP_A'],ABC[\"GRUP_B\"],ABC[\"GRUP_C\"])#Varyanslarımız Homojen Dağılmıştır"
   ]
  },
  {
   "cell_type": "markdown",
   "id": "c23cc781-7e18-4402-b31d-2b05ff53b8e5",
   "metadata": {},
   "source": [
    "### Hipotez Testi"
   ]
  },
  {
   "cell_type": "code",
   "execution_count": 335,
   "id": "f47462a9-8b85-4538-8e29-1e6b34514068",
   "metadata": {},
   "outputs": [],
   "source": [
    "from scipy.stats import f_oneway"
   ]
  },
  {
   "cell_type": "code",
   "execution_count": 337,
   "id": "c6a6cb54-edb8-4ea6-a36a-37ca519e675b",
   "metadata": {},
   "outputs": [
    {
     "data": {
      "text/plain": [
       "F_onewayResult(statistic=74.69278140730431, pvalue=1.307905074681148e-19)"
      ]
     },
     "execution_count": 337,
     "metadata": {},
     "output_type": "execute_result"
    }
   ],
   "source": [
    "f_oneway(ABC['GRUP_A'],ABC[\"GRUP_B\"],ABC[\"GRUP_C\"])"
   ]
  },
  {
   "cell_type": "code",
   "execution_count": 347,
   "id": "bafcf201-6e57-4109-8a59-5429f580bb5a",
   "metadata": {},
   "outputs": [
    {
     "data": {
      "text/html": [
       "<div>\n",
       "<style scoped>\n",
       "    .dataframe tbody tr th:only-of-type {\n",
       "        vertical-align: middle;\n",
       "    }\n",
       "\n",
       "    .dataframe tbody tr th {\n",
       "        vertical-align: top;\n",
       "    }\n",
       "\n",
       "    .dataframe thead th {\n",
       "        text-align: right;\n",
       "    }\n",
       "</style>\n",
       "<table border=\"1\" class=\"dataframe\">\n",
       "  <thead>\n",
       "    <tr style=\"text-align: right;\">\n",
       "      <th></th>\n",
       "      <th>count</th>\n",
       "      <th>mean</th>\n",
       "      <th>std</th>\n",
       "      <th>min</th>\n",
       "      <th>25%</th>\n",
       "      <th>50%</th>\n",
       "      <th>75%</th>\n",
       "      <th>max</th>\n",
       "    </tr>\n",
       "  </thead>\n",
       "  <tbody>\n",
       "    <tr>\n",
       "      <th>GRUP_A</th>\n",
       "      <td>30.0</td>\n",
       "      <td>30.133333</td>\n",
       "      <td>2.224214</td>\n",
       "      <td>25.0</td>\n",
       "      <td>28.25</td>\n",
       "      <td>30.0</td>\n",
       "      <td>31.75</td>\n",
       "      <td>34.0</td>\n",
       "    </tr>\n",
       "    <tr>\n",
       "      <th>GRUP_B</th>\n",
       "      <td>30.0</td>\n",
       "      <td>31.700000</td>\n",
       "      <td>2.937862</td>\n",
       "      <td>26.0</td>\n",
       "      <td>30.00</td>\n",
       "      <td>31.0</td>\n",
       "      <td>34.00</td>\n",
       "      <td>38.0</td>\n",
       "    </tr>\n",
       "    <tr>\n",
       "      <th>GRUP_C</th>\n",
       "      <td>30.0</td>\n",
       "      <td>38.100000</td>\n",
       "      <td>2.808239</td>\n",
       "      <td>33.0</td>\n",
       "      <td>36.00</td>\n",
       "      <td>38.0</td>\n",
       "      <td>40.00</td>\n",
       "      <td>43.0</td>\n",
       "    </tr>\n",
       "  </tbody>\n",
       "</table>\n",
       "</div>"
      ],
      "text/plain": [
       "        count       mean       std   min    25%   50%    75%   max\n",
       "GRUP_A   30.0  30.133333  2.224214  25.0  28.25  30.0  31.75  34.0\n",
       "GRUP_B   30.0  31.700000  2.937862  26.0  30.00  31.0  34.00  38.0\n",
       "GRUP_C   30.0  38.100000  2.808239  33.0  36.00  38.0  40.00  43.0"
      ]
     },
     "execution_count": 347,
     "metadata": {},
     "output_type": "execute_result"
    }
   ],
   "source": [
    "ABC.describe().T"
   ]
  },
  {
   "cell_type": "markdown",
   "id": "d02b1562-bbad-47f4-86d9-ba16fbaef070",
   "metadata": {},
   "source": [
    "### Nonparametrik Hipotez Testi"
   ]
  },
  {
   "cell_type": "code",
   "execution_count": 352,
   "id": "556a7f37-056d-4fbc-8dbd-b9ca23d1d0e8",
   "metadata": {},
   "outputs": [],
   "source": [
    "from scipy.stats import kruskal"
   ]
  },
  {
   "cell_type": "code",
   "execution_count": 354,
   "id": "40234dd1-af1c-4d37-8679-cd9cd636f108",
   "metadata": {},
   "outputs": [
    {
     "data": {
      "text/plain": [
       "KruskalResult(statistic=54.19819735523783, pvalue=1.7022015426175926e-12)"
      ]
     },
     "execution_count": 354,
     "metadata": {},
     "output_type": "execute_result"
    }
   ],
   "source": [
    "kruskal(ABC['GRUP_A'],ABC[\"GRUP_B\"],ABC[\"GRUP_C\"])"
   ]
  },
  {
   "cell_type": "markdown",
   "id": "0b2d2532-94f2-4eae-b540-b780b1104731",
   "metadata": {},
   "source": [
    "## Korelasyon Analizi"
   ]
  },
  {
   "cell_type": "markdown",
   "id": "bed5d756-796d-4bf1-a981-0b52e1333b88",
   "metadata": {},
   "source": [
    "#### Değişkenler arasındaki ilişkil bu ilişkinin yönü ve şiddeti\n",
    "#### ile ilgili bilgiler sağlayan istatistiksel bir yöntemdir."
   ]
  },
  {
   "cell_type": "code",
   "execution_count": null,
   "id": "0182b3fd-044d-4ef5-a992-1efeef982553",
   "metadata": {},
   "outputs": [],
   "source": [
    "H0=Değerler Arasında Anlamlı Bir İlişki Yoktur\n",
    "H1=Değerler Arasında Anlamlı Bir İlişki Vardır"
   ]
  },
  {
   "cell_type": "markdown",
   "id": "21db4f4c-f478-4d8b-a4a5-68b310607a9c",
   "metadata": {},
   "source": [
    "### Varsayımları\n",
    "#### • İki değişken içinde normallik varsayımı.\n",
    "#### • Varsayım sağlanıyorsa Pearson Korelasyon Katsayısı\n",
    "#### • Varsayım sağlanmıyorsa Spearman Korelasyon Katsayısı"
   ]
  },
  {
   "cell_type": "markdown",
   "id": "26dde30a-9ca2-4348-9255-6f000f891d8c",
   "metadata": {},
   "source": [
    "### Uygulama:Bahşiş İle Hesap Arasındaki İlişki"
   ]
  },
  {
   "cell_type": "markdown",
   "id": "45f46ed9-d0a2-4d6a-82c3-707ca82c9ed3",
   "metadata": {},
   "source": [
    "Bahşiş veri seti:\n",
    "\n",
    "total_bill: yemeğin toplam fiyatı (bahşiş ve vergi dahil)\n",
    "\n",
    "tip: bahşiş\n",
    "\n",
    "sex: ücreti ödeyen kişinin cinsiyeti (0=male, 1=female)\n",
    "\n",
    "smoker: grupta sigara içen var mı? (0=No, 1=Yes)\n",
    "\n",
    "day: gün (3=Thur, 4=Fri, 5=Sat, 6=Sun)\n",
    "\n",
    "time: ne zaman? (0=Day, 1=Night)\n",
    "\n",
    "size: grupta kaç kişi var?"
   ]
  },
  {
   "cell_type": "code",
   "execution_count": 16,
   "id": "ea2c645b-28f7-425f-85d5-34e2de410c47",
   "metadata": {},
   "outputs": [],
   "source": [
    "import seaborn as sns\n",
    "import numpy as np\n",
    "import pandas as pd"
   ]
  },
  {
   "cell_type": "code",
   "execution_count": 24,
   "id": "03c2d1a1-ebba-4dff-bddc-e888e410e78b",
   "metadata": {},
   "outputs": [],
   "source": [
    "tips=sns.load_dataset(\"tips\")\n",
    "df=tips.copy()"
   ]
  },
  {
   "cell_type": "code",
   "execution_count": 26,
   "id": "9ef49850-542d-4764-a409-0dc1dc228718",
   "metadata": {},
   "outputs": [
    {
     "data": {
      "text/html": [
       "<div>\n",
       "<style scoped>\n",
       "    .dataframe tbody tr th:only-of-type {\n",
       "        vertical-align: middle;\n",
       "    }\n",
       "\n",
       "    .dataframe tbody tr th {\n",
       "        vertical-align: top;\n",
       "    }\n",
       "\n",
       "    .dataframe thead th {\n",
       "        text-align: right;\n",
       "    }\n",
       "</style>\n",
       "<table border=\"1\" class=\"dataframe\">\n",
       "  <thead>\n",
       "    <tr style=\"text-align: right;\">\n",
       "      <th></th>\n",
       "      <th>total_bill</th>\n",
       "      <th>tip</th>\n",
       "      <th>sex</th>\n",
       "      <th>smoker</th>\n",
       "      <th>day</th>\n",
       "      <th>time</th>\n",
       "      <th>size</th>\n",
       "    </tr>\n",
       "  </thead>\n",
       "  <tbody>\n",
       "    <tr>\n",
       "      <th>0</th>\n",
       "      <td>16.99</td>\n",
       "      <td>1.01</td>\n",
       "      <td>Female</td>\n",
       "      <td>No</td>\n",
       "      <td>Sun</td>\n",
       "      <td>Dinner</td>\n",
       "      <td>2</td>\n",
       "    </tr>\n",
       "    <tr>\n",
       "      <th>1</th>\n",
       "      <td>10.34</td>\n",
       "      <td>1.66</td>\n",
       "      <td>Male</td>\n",
       "      <td>No</td>\n",
       "      <td>Sun</td>\n",
       "      <td>Dinner</td>\n",
       "      <td>3</td>\n",
       "    </tr>\n",
       "    <tr>\n",
       "      <th>2</th>\n",
       "      <td>21.01</td>\n",
       "      <td>3.50</td>\n",
       "      <td>Male</td>\n",
       "      <td>No</td>\n",
       "      <td>Sun</td>\n",
       "      <td>Dinner</td>\n",
       "      <td>3</td>\n",
       "    </tr>\n",
       "    <tr>\n",
       "      <th>3</th>\n",
       "      <td>23.68</td>\n",
       "      <td>3.31</td>\n",
       "      <td>Male</td>\n",
       "      <td>No</td>\n",
       "      <td>Sun</td>\n",
       "      <td>Dinner</td>\n",
       "      <td>2</td>\n",
       "    </tr>\n",
       "    <tr>\n",
       "      <th>4</th>\n",
       "      <td>24.59</td>\n",
       "      <td>3.61</td>\n",
       "      <td>Female</td>\n",
       "      <td>No</td>\n",
       "      <td>Sun</td>\n",
       "      <td>Dinner</td>\n",
       "      <td>4</td>\n",
       "    </tr>\n",
       "  </tbody>\n",
       "</table>\n",
       "</div>"
      ],
      "text/plain": [
       "   total_bill   tip     sex smoker  day    time  size\n",
       "0       16.99  1.01  Female     No  Sun  Dinner     2\n",
       "1       10.34  1.66    Male     No  Sun  Dinner     3\n",
       "2       21.01  3.50    Male     No  Sun  Dinner     3\n",
       "3       23.68  3.31    Male     No  Sun  Dinner     2\n",
       "4       24.59  3.61  Female     No  Sun  Dinner     4"
      ]
     },
     "execution_count": 26,
     "metadata": {},
     "output_type": "execute_result"
    }
   ],
   "source": [
    "df.head()"
   ]
  },
  {
   "cell_type": "code",
   "execution_count": 51,
   "id": "c7333daf-ffbe-4513-81f7-0125bb620d11",
   "metadata": {},
   "outputs": [],
   "source": [
    "df[\"total_bill\"]=df[\"total_bill\"]-df[\"tip\"]"
   ]
  },
  {
   "cell_type": "code",
   "execution_count": 62,
   "id": "11689b94-ba5c-439b-be02-bdaff8d65e67",
   "metadata": {},
   "outputs": [
    {
     "data": {
      "image/png": "[encoded data removed]",
      "text/plain": [
       "<Figure size 640x480 with 1 Axes>"
      ]
     },
     "metadata": {},
     "output_type": "display_data"
    }
   ],
   "source": [
    "df.plot.scatter(\"tip\",\"total_bill\");"
   ]
  },
  {
   "cell_type": "markdown",
   "id": "2ccc4548-57a1-4b1b-badd-bff50fa9390b",
   "metadata": {},
   "source": [
    "### Varsayım Kontrolü"
   ]
  },
  {
   "cell_type": "code",
   "execution_count": 65,
   "id": "f5aab29b-4df6-454d-b89b-96199a536cc1",
   "metadata": {},
   "outputs": [],
   "source": [
    "from scipy.stats import shapiro"
   ]
  },
  {
   "cell_type": "code",
   "execution_count": 72,
   "id": "9e81bb41-4ffa-48e3-813a-603782cfc4c3",
   "metadata": {},
   "outputs": [
    {
     "name": "stdout",
     "output_type": "stream",
     "text": [
      "8.200360128656659e-12\n"
     ]
    }
   ],
   "source": [
    "test_istatistigi, pvalue = shapiro(df[\"tip\"])\n",
    "print(pvalue)   #Değer 0.05den küçük olduğu için normal dağılım göstermemiştir"
   ]
  },
  {
   "cell_type": "code",
   "execution_count": 74,
   "id": "aec5f151-4f0f-4075-88c3-d2f2e388f34d",
   "metadata": {},
   "outputs": [
    {
     "name": "stdout",
     "output_type": "stream",
     "text": [
      "1.1059404008058959e-10\n"
     ]
    }
   ],
   "source": [
    "test_istatistigi, pvalue = shapiro(df[\"total_bill\"])\n",
    "print(pvalue)   #Değer 0.05den küçük olduğu için normal dağılım göstermemiştir"
   ]
  },
  {
   "cell_type": "markdown",
   "id": "56644f50-7eb7-4abd-a19f-0bc41c2722f1",
   "metadata": {},
   "source": [
    "### Hipotez Testi"
   ]
  },
  {
   "cell_type": "markdown",
   "id": "e9083841-cd43-417c-842f-fb6ce2f577d5",
   "metadata": {},
   "source": [
    "#### Korelasyon Katsayısı"
   ]
  },
  {
   "cell_type": "code",
   "execution_count": 83,
   "id": "70df54fa-4af0-40a6-830a-3cf0f956c29d",
   "metadata": {},
   "outputs": [
    {
     "data": {
      "text/plain": [
       "0.5766634471096374"
      ]
     },
     "execution_count": 83,
     "metadata": {},
     "output_type": "execute_result"
    }
   ],
   "source": [
    "df[\"tip\"].corr(df[\"total_bill\"])"
   ]
  },
  {
   "cell_type": "code",
   "execution_count": 98,
   "id": "ea6fb6e6-dae2-4fe3-b9ff-c2f35e62f6a1",
   "metadata": {},
   "outputs": [
    {
     "data": {
      "text/plain": [
       "0.593691939408997"
      ]
     },
     "execution_count": 98,
     "metadata": {},
     "output_type": "execute_result"
    }
   ],
   "source": [
    "df[\"tip\"].corr(df[\"total_bill\"],method=\"spearman\")#Normallik Varsayımı Sağlanmadığı İçin Bu Method Kullanılır\n",
    "                                                  #Pozitif Yönlü Orta Şiddetli Bir İlişkileri Vardır Diyebiliriz"
   ]
  },
  {
   "cell_type": "markdown",
   "id": "2de0e1fd-ce34-4d95-bc90-8ef78c01ce6a",
   "metadata": {},
   "source": [
    "#### Korelasyon Anlamlılığı "
   ]
  },
  {
   "cell_type": "code",
   "execution_count": 103,
   "id": "d3998dd4-7c37-4ed5-89d0-38f15f875117",
   "metadata": {},
   "outputs": [],
   "source": [
    "from scipy.stats import pearsonr"
   ]
  },
  {
   "cell_type": "code",
   "execution_count": 107,
   "id": "1618927e-aafd-4b27-99f3-2efcbb37bfa0",
   "metadata": {},
   "outputs": [
    {
     "data": {
      "text/plain": [
       "PearsonRResult(statistic=0.5766634471096381, pvalue=5.018290084948537e-23)"
      ]
     },
     "execution_count": 107,
     "metadata": {},
     "output_type": "execute_result"
    }
   ],
   "source": [
    "pearsonr(df[\"tip\"],df[\"total_bill\"])#p-value 0.05den küçük olduğu için Değerler arasında anlamlı bir ilişki yoktur\n",
    "                                    #diyen H0 hipotezini reddediyoruz\n",
    "                                    #aralarında anlamlı bir ilişki vardır diyebiliriz\n",
    "                    "
   ]
  },
  {
   "cell_type": "markdown",
   "id": "d7885b1b-03f6-4ed9-ac4a-dc3a2ee076e2",
   "metadata": {},
   "source": [
    "### Nonparametrik Hipotez Testi"
   ]
  },
  {
   "cell_type": "code",
   "execution_count": 125,
   "id": "0a42d3e6-6ede-4e29-83ae-1efc6c3a44cb",
   "metadata": {},
   "outputs": [
    {
     "data": {
      "text/plain": [
       "SignificanceResult(statistic=0.593691939408997, pvalue=1.2452285137560276e-24)"
      ]
     },
     "execution_count": 125,
     "metadata": {},
     "output_type": "execute_result"
    }
   ],
   "source": [
    "from scipy import stats\n",
    "stats.spearmanr(df[\"tip\"],df[\"total_bill\"])"
   ]
  },
  {
   "cell_type": "code",
   "execution_count": null,
   "id": "464e9d60-c4f8-4a9b-b792-4954f39b0dfd",
   "metadata": {},
   "outputs": [],
   "source": []
  }
 ],
 "metadata": {
  "kernelspec": {
   "display_name": "Python [conda env:base] *",
   "language": "python",
   "name": "conda-base-py"
  },
  "language_info": {
   "codemirror_mode": {
    "name": "ipython",
    "version": 3
   },
   "file_extension": ".py",
   "mimetype": "text/x-python",
   "name": "python",
   "nbconvert_exporter": "python",
   "pygments_lexer": "ipython3",
   "version": "3.12.3"
  }
 },
 "nbformat": 4,
 "nbformat_minor": 5
}
